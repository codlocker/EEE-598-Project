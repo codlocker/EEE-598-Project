{
 "cells": [
  {
   "cell_type": "code",
   "execution_count": 149,
   "id": "e2c8581f",
   "metadata": {},
   "outputs": [],
   "source": [
    "import numpy as np\n",
    "import pandas as pd\n",
    "from collections import Counter\n",
    "import matplotlib.pyplot as plt\n",
    "from sklearn import datasets\n",
    "from sklearn.model_selection import train_test_split\n",
    "import numpy as np\n",
    "from sklearn import preprocessing\n",
    "from sklearn.metrics import accuracy_score"
   ]
  },
  {
   "cell_type": "markdown",
   "id": "4a6a9541",
   "metadata": {},
   "source": [
    "## Node Values"
   ]
  },
  {
   "cell_type": "code",
   "execution_count": 150,
   "id": "c768d949",
   "metadata": {},
   "outputs": [],
   "source": [
    "class Node():\n",
    "    def __init__(\n",
    "        self,\n",
    "        feature_index=None,\n",
    "        threshold=None,\n",
    "        left=None,\n",
    "        right=None,\n",
    "        info_gain=None,\n",
    "        value=None,\n",
    "        normalized_cr = None):\n",
    "        '''Constructor for the DT Nodes'''\n",
    "        \n",
    "        self.feature_index = feature_index\n",
    "        self.threshold = threshold\n",
    "        self.left = left\n",
    "        self.right = right\n",
    "        self.info_gain = info_gain\n",
    "        self.normalized_correlation = normalized_cr\n",
    "        \n",
    "        # for leaf node\n",
    "        self.value = value"
   ]
  },
  {
   "cell_type": "markdown",
   "id": "5f3005d7",
   "metadata": {},
   "source": [
    "## Decision Tree"
   ]
  },
  {
   "cell_type": "code",
   "execution_count": 151,
   "id": "6cc9a012",
   "metadata": {},
   "outputs": [],
   "source": [
    "class DecisionTreeClassifier():\n",
    "    def __init__(\n",
    "        self,\n",
    "        min_samples_split=2,\n",
    "        max_depth=2,\n",
    "        normalized_correlation_values=None,\n",
    "        information_gain_mode=\"entropy\"):\n",
    "        self.root = None\n",
    "        \n",
    "        #Base Case\n",
    "        self.min_samples_split = min_samples_split\n",
    "        self.max_depth = max_depth\n",
    "        self.normalized_correlation_values = normalized_correlation_values\n",
    "        self.information_gain_mode = information_gain_mode\n",
    "        \n",
    "    def build_tree(self, dataset, curr_depth=0):\n",
    "        X, Y = dataset[:,:-1], dataset[:,-1]\n",
    "        num_samples, num_features = np.shape(X)\n",
    "        \n",
    "        # print(\"Number of samples:\", num_samples, \"Number of features:\", num_features)\n",
    "        \n",
    "        if num_samples >=  self.min_samples_split and curr_depth <= self.max_depth:\n",
    "            \n",
    "            # Find the best split\n",
    "            best_split = self.get_best_split(dataset, num_samples, num_features)\n",
    "            \n",
    "            if best_split[\"info_gain\"] > 0:\n",
    "                # Recurrence in the left SubTree\n",
    "                left_subtree = self.build_tree(best_split[\"dataset_left\"], curr_depth + 1)\n",
    "                \n",
    "                # Recurrence in right subtree\n",
    "                right_subtree = self.build_tree(best_split[\"dataset_right\"], curr_depth + 1)\n",
    "                \n",
    "                # return decision node\n",
    "                return Node(best_split[\"feature_index\"], best_split[\"threshold\"], \n",
    "                            left_subtree, right_subtree, best_split[\"info_gain\"])\n",
    "            \n",
    "        # compute leaf node\n",
    "        leaf_value = self.calculate_leaf_value(Y)\n",
    "        # return leaf node\n",
    "        return Node(value=leaf_value)\n",
    "    \n",
    "    def get_best_split(self, dataset, num_samples, num_features):\n",
    "        \n",
    "        best_split = {}\n",
    "        max_info_gain = -float(\"inf\")\n",
    "        # print(\"Dataset shape:\", dataset.shape)\n",
    "        for feature_index in range(num_features):\n",
    "            # print(feature_index)\n",
    "            feature_values = dataset[:, feature_index]\n",
    "            possible_thresholds = np.unique(feature_values)\n",
    "            \n",
    "            # Loop over all feature values in the dat\n",
    "            for threshold in possible_thresholds:\n",
    "                dataset_left, dataset_right = self.split(dataset, feature_index, threshold)\n",
    "                \n",
    "                if len(dataset_left) > 0 and len(dataset_right) > 0:\n",
    "                    Y, Y_left, Y_right = dataset[:, -1], dataset_left[:, -1], dataset_right[:, -1]\n",
    "                    \n",
    "                    # Compute Information Gain using X's and Y's\n",
    "                    if self.information_gain_mode == \"entropy_af\":\n",
    "                        curr_info_gain = self.information_gain_af(Y, Y_left, Y_right, feature_index)\n",
    "                    elif self.information_gain_mode == \"entropy_chi\":\n",
    "                        chi_square_left_node = self.information_gain_chi_squared(Y, Y_left)\n",
    "                        chi_square_right_node = self.information_gain_chi_squared(Y, Y_right)\n",
    "                        \n",
    "                        curr_info_gain = chi_square_left_node if chi_square_left_node > chi_square_right_node else chi_square_right_node\n",
    "                    elif self.information_gain_mode == \"entropy_gini_index\":\n",
    "                        curr_info_gain = self.information_gain_gini(Y, Y_left, Y_right)\n",
    "                    else:\n",
    "                        curr_info_gain = self.information_gain(Y, Y_left, Y_right)\n",
    "                    \n",
    "                    # print(\"Current Info Gain\", curr_info_gain)\n",
    "                    \n",
    "                    # Update the best split if needed\n",
    "                    if curr_info_gain > max_info_gain:\n",
    "                        best_split[\"feature_index\"] = feature_index\n",
    "                        best_split[\"threshold\"] = threshold\n",
    "                        best_split[\"dataset_left\"] = dataset_left\n",
    "                        best_split[\"dataset_right\"] = dataset_right\n",
    "                        best_split[\"info_gain\"] = curr_info_gain\n",
    "                        max_info_gain = curr_info_gain\n",
    "                \n",
    "        return best_split\n",
    "    \n",
    "    def split(self, dataset, feature_index, threshold):\n",
    "        ''' function to split the data '''\n",
    "        # print(\"Feature Index:\", feature_index, \"Threshold:\", threshold)\n",
    "        \n",
    "        dataset_left = np.array([row for row in dataset if row[feature_index]<=threshold])\n",
    "        dataset_right = np.array([row for row in dataset if row[feature_index]>threshold])\n",
    "        \n",
    "        # print(\"Y:\", Y_left.shape, Y_right.shape)\n",
    "        return dataset_left, dataset_right\n",
    "    \n",
    "    def information_gain_af(self, parent, l_child, r_child, f_index):\n",
    "        p_l = len(l_child) / len(parent)\n",
    "        p_r = len(r_child) / len(parent)\n",
    "        \n",
    "        return self.entropy(parent) - p_l * self.entropy(l_child) * self.normalized_correlation_values[f_index] - p_r * self.entropy(r_child) * self.normalized_correlation_values[f_index]\n",
    "    \n",
    "    def information_gain(self, parent, l_child, r_child):\n",
    "        p_l = len(l_child) / len(parent)\n",
    "        p_r = len(r_child) / len(parent)\n",
    "\n",
    "        return self.entropy(parent) - p_l * self.entropy(l_child) - p_r * self.entropy(r_child)\n",
    "    \n",
    "    def information_gain_gini(self, parent, l_child, r_child):\n",
    "        p_l = len(l_child) / len(parent)\n",
    "        p_r = len(r_child) / len(parent)\n",
    "\n",
    "        return self.entropy(parent) - p_l * self.gini_index(l_child) - p_r * self.gini_index(r_child)\n",
    "    \n",
    "    def information_gain_chi_squared(self, parent, child):\n",
    "        unique_parent, counts_parent = np.unique(parent, return_counts=True)\n",
    "        total_parent = np.sum(counts_parent)\n",
    "        \n",
    "        expected = np.mean([c / total_parent for c in counts_parent])\n",
    "        # print(\"Expected: \", expected)\n",
    "        \n",
    "        unique_child, counts_child = np.unique(child, return_counts=True)\n",
    "        total_child = sum(counts_child)\n",
    "        \n",
    "        actual = np.mean([c / total_child for c in counts_child])\n",
    "        \n",
    "        # print(\"Actual: \", actual)\n",
    "        \n",
    "        return np.sqrt((expected - actual) ** 2 / expected)\n",
    "        \n",
    "        \n",
    "        \n",
    "    def entropy(self, Y):\n",
    "        class_labels = np.unique(Y)\n",
    "        entropy = 0\n",
    "        \n",
    "        for cls in class_labels:\n",
    "            p_cls = len(Y[Y == cls]) / len(Y)\n",
    "            entropy += -p_cls * np.log2(p_cls)\n",
    "            \n",
    "        return entropy\n",
    "    \n",
    "    def gini_index(self, Y):\n",
    "        ''' Computes the gini-index '''\n",
    "        \n",
    "        class_labels = np.unique(Y)\n",
    "        gini_value = 0\n",
    "        \n",
    "        for cls in class_labels:\n",
    "            p_cls = len(Y[Y == cls]) / len(Y)\n",
    "            gini_value += np.power(p_cls, 2)\n",
    "        \n",
    "        return 1 - gini_value\n",
    "    \n",
    "    def calculate_leaf_value(self, Y):\n",
    "        ''' function to compute leaf nodes  '''\n",
    "        \n",
    "        Y = list(Y)\n",
    "        return max(Y, key=Y.count)\n",
    "    \n",
    "    def print_tree(self, tree=None, indent=\" \"):\n",
    "        \n",
    "        if not tree:\n",
    "            tree = self.root\n",
    "            \n",
    "        if tree.value is not None:\n",
    "            print(tree.value)\n",
    "            \n",
    "        else:\n",
    "            print(\"X_\"+str(tree.feature_index), \"<=\", tree.threshold, \"?\", tree.info_gain)\n",
    "            print(\"%sleft:\" % (indent), end=\"\")\n",
    "            self.print_tree(tree.left, indent + indent)\n",
    "            print(\"%sright:\" % (indent), end=\"\")\n",
    "            self.print_tree(tree.right, indent + indent)\n",
    "            \n",
    "    def predict(self, X):\n",
    "        ''' function to predict new dataset '''\n",
    "        predictions = []\n",
    "        \n",
    "        for x in X:\n",
    "            # print(x)\n",
    "            predictions.append(\n",
    "                self.make_prediction(x, self.root))\n",
    "            \n",
    "        return predictions\n",
    "    \n",
    "    def fit(self, X, Y):\n",
    "        ''' function to train the tree '''\n",
    "        dataset = np.concatenate((X, Y), axis=1)\n",
    "        \n",
    "        self.root = self.build_tree(dataset)\n",
    "    \n",
    "    def make_prediction(self, x, tree):\n",
    "        ''' function to predict a single data point '''\n",
    "        \n",
    "        if tree.value != None:\n",
    "            return tree.value\n",
    "        # print(x)\n",
    "        feature_val = x[tree.feature_index]\n",
    "        \n",
    "        if feature_val<=tree.threshold:\n",
    "            return self.make_prediction(x, tree.left)\n",
    "        else:\n",
    "            return self.make_prediction(x, tree.right)"
   ]
  },
  {
   "cell_type": "code",
   "execution_count": 152,
   "id": "be4b1e69",
   "metadata": {},
   "outputs": [
    {
     "data": {
      "text/html": [
       "<div>\n",
       "<style scoped>\n",
       "    .dataframe tbody tr th:only-of-type {\n",
       "        vertical-align: middle;\n",
       "    }\n",
       "\n",
       "    .dataframe tbody tr th {\n",
       "        vertical-align: top;\n",
       "    }\n",
       "\n",
       "    .dataframe thead th {\n",
       "        text-align: right;\n",
       "    }\n",
       "</style>\n",
       "<table border=\"1\" class=\"dataframe\">\n",
       "  <thead>\n",
       "    <tr style=\"text-align: right;\">\n",
       "      <th></th>\n",
       "      <th>Age</th>\n",
       "      <th>Color-cloth</th>\n",
       "      <th>Income</th>\n",
       "      <th>Student</th>\n",
       "      <th>Buy-Computer</th>\n",
       "    </tr>\n",
       "  </thead>\n",
       "  <tbody>\n",
       "    <tr>\n",
       "      <th>0</th>\n",
       "      <td>lt40</td>\n",
       "      <td>Red</td>\n",
       "      <td>High</td>\n",
       "      <td>No</td>\n",
       "      <td>No</td>\n",
       "    </tr>\n",
       "    <tr>\n",
       "      <th>1</th>\n",
       "      <td>lt30</td>\n",
       "      <td>Yellow</td>\n",
       "      <td>High</td>\n",
       "      <td>No</td>\n",
       "      <td>No</td>\n",
       "    </tr>\n",
       "    <tr>\n",
       "      <th>2</th>\n",
       "      <td>bw30-40</td>\n",
       "      <td>Blue</td>\n",
       "      <td>High</td>\n",
       "      <td>No</td>\n",
       "      <td>Yes</td>\n",
       "    </tr>\n",
       "    <tr>\n",
       "      <th>3</th>\n",
       "      <td>gt40</td>\n",
       "      <td>Red</td>\n",
       "      <td>Medium</td>\n",
       "      <td>No</td>\n",
       "      <td>Yes</td>\n",
       "    </tr>\n",
       "    <tr>\n",
       "      <th>4</th>\n",
       "      <td>lt30</td>\n",
       "      <td>White</td>\n",
       "      <td>Low</td>\n",
       "      <td>Yes</td>\n",
       "      <td>No</td>\n",
       "    </tr>\n",
       "    <tr>\n",
       "      <th>5</th>\n",
       "      <td>gt40</td>\n",
       "      <td>Red</td>\n",
       "      <td>Low</td>\n",
       "      <td>Yes</td>\n",
       "      <td>No</td>\n",
       "    </tr>\n",
       "    <tr>\n",
       "      <th>6</th>\n",
       "      <td>bw30-40</td>\n",
       "      <td>Blue</td>\n",
       "      <td>Low</td>\n",
       "      <td>Yes</td>\n",
       "      <td>Yes</td>\n",
       "    </tr>\n",
       "    <tr>\n",
       "      <th>7</th>\n",
       "      <td>lt30</td>\n",
       "      <td>Yellow</td>\n",
       "      <td>Medium</td>\n",
       "      <td>No</td>\n",
       "      <td>Yes</td>\n",
       "    </tr>\n",
       "    <tr>\n",
       "      <th>8</th>\n",
       "      <td>lt30</td>\n",
       "      <td>Yellow</td>\n",
       "      <td>Low</td>\n",
       "      <td>Yes</td>\n",
       "      <td>No</td>\n",
       "    </tr>\n",
       "    <tr>\n",
       "      <th>9</th>\n",
       "      <td>gt40</td>\n",
       "      <td>White</td>\n",
       "      <td>Medium</td>\n",
       "      <td>No</td>\n",
       "      <td>No</td>\n",
       "    </tr>\n",
       "  </tbody>\n",
       "</table>\n",
       "</div>"
      ],
      "text/plain": [
       "       Age Color-cloth  Income Student Buy-Computer\n",
       "0     lt40         Red    High      No           No\n",
       "1     lt30      Yellow    High      No           No\n",
       "2  bw30-40        Blue    High      No          Yes\n",
       "3     gt40         Red  Medium      No          Yes\n",
       "4     lt30       White     Low     Yes           No\n",
       "5     gt40         Red     Low     Yes           No\n",
       "6  bw30-40        Blue     Low     Yes          Yes\n",
       "7     lt30      Yellow  Medium      No          Yes\n",
       "8     lt30      Yellow     Low     Yes           No\n",
       "9     gt40       White  Medium      No           No"
      ]
     },
     "execution_count": 152,
     "metadata": {},
     "output_type": "execute_result"
    }
   ],
   "source": [
    "d = {'Age': [ \"lt40\", \"lt30\", \"bw30-40\", \"gt40\", \"lt30\", \"gt40\", \"bw30-40\", \"lt30\", \"lt30\", \"gt40\" ],\n",
    "     'Color-cloth': [\"Red\", \"Yellow\", \"Blue\", \"Red\", \"White\", \"Red\", \"Blue\", \"Yellow\", \"Yellow\", \"White\"],\n",
    "     'Income': [ 'High', 'High', 'High', 'Medium', 'Low', 'Low', 'Low', 'Medium', 'Low', 'Medium' ],\n",
    "     'Student': ['No', 'No', 'No', 'No', 'Yes', 'Yes', 'Yes', 'No', 'Yes', 'No'],\n",
    "     'Buy-Computer': ['No', 'No', 'Yes', 'Yes', 'No', 'No', 'Yes', 'Yes', 'No', 'No']}\n",
    "\n",
    "df = pd.DataFrame(data=d)\n",
    "columns = df.columns\n",
    "df"
   ]
  },
  {
   "cell_type": "code",
   "execution_count": 153,
   "id": "13595d1b",
   "metadata": {},
   "outputs": [],
   "source": [
    "X, y = df.values[:, :-1], df.values[:, -1]\n",
    "\n",
    "Y = y.reshape(-1, 1)\n",
    "Y.shape\n",
    "\n",
    "X_train, X_test, Y_train, Y_test = train_test_split(\n",
    "    X, Y, test_size=0.2, random_state=42\n",
    ")"
   ]
  },
  {
   "cell_type": "code",
   "execution_count": 154,
   "id": "adc4093a",
   "metadata": {},
   "outputs": [
    {
     "data": {
      "text/plain": [
       "array([['lt40', 'Red', 'High', 'No'],\n",
       "       ['lt30', 'Yellow', 'High', 'No'],\n",
       "       ['bw30-40', 'Blue', 'High', 'No'],\n",
       "       ['gt40', 'Red', 'Medium', 'No'],\n",
       "       ['lt30', 'White', 'Low', 'Yes'],\n",
       "       ['gt40', 'Red', 'Low', 'Yes'],\n",
       "       ['bw30-40', 'Blue', 'Low', 'Yes'],\n",
       "       ['lt30', 'Yellow', 'Medium', 'No'],\n",
       "       ['lt30', 'Yellow', 'Low', 'Yes'],\n",
       "       ['gt40', 'White', 'Medium', 'No']], dtype=object)"
      ]
     },
     "execution_count": 154,
     "metadata": {},
     "output_type": "execute_result"
    }
   ],
   "source": [
    "X"
   ]
  },
  {
   "cell_type": "code",
   "execution_count": 155,
   "id": "2d258a2c",
   "metadata": {},
   "outputs": [
    {
     "data": {
      "text/plain": [
       "array([['No'],\n",
       "       ['No'],\n",
       "       ['Yes'],\n",
       "       ['Yes'],\n",
       "       ['No'],\n",
       "       ['No'],\n",
       "       ['Yes'],\n",
       "       ['Yes'],\n",
       "       ['No'],\n",
       "       ['No']], dtype=object)"
      ]
     },
     "execution_count": 155,
     "metadata": {},
     "output_type": "execute_result"
    }
   ],
   "source": [
    "Y"
   ]
  },
  {
   "cell_type": "markdown",
   "id": "9e9e8352",
   "metadata": {},
   "source": [
    "## Label Encoding"
   ]
  },
  {
   "cell_type": "code",
   "execution_count": 156,
   "id": "f0bcab91",
   "metadata": {},
   "outputs": [
    {
     "data": {
      "text/plain": [
       "Index(['Age', 'Color-cloth', 'Income', 'Student', 'Buy-Computer'], dtype='object')"
      ]
     },
     "execution_count": 156,
     "metadata": {},
     "output_type": "execute_result"
    }
   ],
   "source": [
    "le = preprocessing.LabelEncoder()\n",
    "\n",
    "df_encoded = df.copy()\n",
    "\n",
    "df_encoded.columns"
   ]
  },
  {
   "cell_type": "code",
   "execution_count": 157,
   "id": "b039da1c",
   "metadata": {},
   "outputs": [
    {
     "data": {
      "text/html": [
       "<div>\n",
       "<style scoped>\n",
       "    .dataframe tbody tr th:only-of-type {\n",
       "        vertical-align: middle;\n",
       "    }\n",
       "\n",
       "    .dataframe tbody tr th {\n",
       "        vertical-align: top;\n",
       "    }\n",
       "\n",
       "    .dataframe thead th {\n",
       "        text-align: right;\n",
       "    }\n",
       "</style>\n",
       "<table border=\"1\" class=\"dataframe\">\n",
       "  <thead>\n",
       "    <tr style=\"text-align: right;\">\n",
       "      <th></th>\n",
       "      <th>Age</th>\n",
       "      <th>Color-cloth</th>\n",
       "      <th>Income</th>\n",
       "      <th>Student</th>\n",
       "      <th>Buy-Computer</th>\n",
       "    </tr>\n",
       "  </thead>\n",
       "  <tbody>\n",
       "    <tr>\n",
       "      <th>0</th>\n",
       "      <td>3</td>\n",
       "      <td>1</td>\n",
       "      <td>0</td>\n",
       "      <td>0</td>\n",
       "      <td>0</td>\n",
       "    </tr>\n",
       "    <tr>\n",
       "      <th>1</th>\n",
       "      <td>2</td>\n",
       "      <td>3</td>\n",
       "      <td>0</td>\n",
       "      <td>0</td>\n",
       "      <td>0</td>\n",
       "    </tr>\n",
       "    <tr>\n",
       "      <th>2</th>\n",
       "      <td>0</td>\n",
       "      <td>0</td>\n",
       "      <td>0</td>\n",
       "      <td>0</td>\n",
       "      <td>1</td>\n",
       "    </tr>\n",
       "    <tr>\n",
       "      <th>3</th>\n",
       "      <td>1</td>\n",
       "      <td>1</td>\n",
       "      <td>2</td>\n",
       "      <td>0</td>\n",
       "      <td>1</td>\n",
       "    </tr>\n",
       "    <tr>\n",
       "      <th>4</th>\n",
       "      <td>2</td>\n",
       "      <td>2</td>\n",
       "      <td>1</td>\n",
       "      <td>1</td>\n",
       "      <td>0</td>\n",
       "    </tr>\n",
       "  </tbody>\n",
       "</table>\n",
       "</div>"
      ],
      "text/plain": [
       "   Age  Color-cloth  Income  Student  Buy-Computer\n",
       "0    3            1       0        0             0\n",
       "1    2            3       0        0             0\n",
       "2    0            0       0        0             1\n",
       "3    1            1       2        0             1\n",
       "4    2            2       1        1             0"
      ]
     },
     "execution_count": 157,
     "metadata": {},
     "output_type": "execute_result"
    }
   ],
   "source": [
    "# Label Buying\n",
    "\n",
    "df_encoded['Age'] = le.fit_transform(df['Age'])\n",
    "df_encoded['Color-cloth'] = le.fit_transform(df['Color-cloth'])\n",
    "df_encoded['Income'] = le.fit_transform(df['Income'])\n",
    "df_encoded['Student'] = le.fit_transform(df['Student'])\n",
    "df_encoded['Buy-Computer'] = le.fit_transform(df['Buy-Computer'])\n",
    "\n",
    "df_encoded.head()"
   ]
  },
  {
   "cell_type": "code",
   "execution_count": 158,
   "id": "50eabccd",
   "metadata": {},
   "outputs": [
    {
     "name": "stdout",
     "output_type": "stream",
     "text": [
      "(10, 4) (10,)\n",
      "Unique values:  [0 1 2 3]\n",
      "Unique values:  [0 1 2 3]\n",
      "Unique values:  [0 1 2]\n",
      "Unique values:  [0 1]\n",
      "(4,)\n",
      "[0.2658227848101266, 0.3037974683544304, 0.20253164556962025, 0.2278481012658228]\n"
     ]
    }
   ],
   "source": [
    "def AF_algorithm(D_values):\n",
    "    af_set = []\n",
    "    C_values = D_values[:, -1]\n",
    "    AF_values = D_values[:, :-1]\n",
    "    \n",
    "    print(AF_values.shape, C_values.shape)\n",
    "    \n",
    "    for i in range(0, AF_values.shape[1]):\n",
    "        print(\"Unique values: \", np.unique(AF_values[:, i]))\n",
    "        af_set.append(\n",
    "            np.sum(\n",
    "                np.abs(AF_values[:, i] - C_values), axis=0) / len(np.unique(AF_values[:, i])))\n",
    "    \n",
    "    return af_set\n",
    "\n",
    "def calculate_normalized_AF(AF_values):\n",
    "    AF_normalized = []\n",
    "    \n",
    "    for i in range(AF_values.shape[0]):\n",
    "        AF_normalized.append(AF_values[i] / np.sum(AF_values, axis=0))\n",
    "    \n",
    "    return AF_normalized\n",
    "    \n",
    "AF_values = np.array(AF_algorithm(df_encoded.values))\n",
    "print(AF_values.shape)\n",
    "normalized_AF_values = calculate_normalized_AF(AF_values) \n",
    "\n",
    "print(normalized_AF_values)"
   ]
  },
  {
   "cell_type": "markdown",
   "id": "58e41ef6",
   "metadata": {},
   "source": [
    "## Running Decision Tree on Normal Information Gain with Entropy function"
   ]
  },
  {
   "cell_type": "code",
   "execution_count": 159,
   "id": "c682f9e0",
   "metadata": {},
   "outputs": [
    {
     "name": "stdout",
     "output_type": "stream",
     "text": [
      "X_0 <= bw30-40 ? 0.31127812445913283\n",
      " left:Yes\n",
      " right:X_2 <= Low ? 0.4591479170272448\n",
      "  left:No\n",
      "  right:Yes\n"
     ]
    }
   ],
   "source": [
    "classifier = DecisionTreeClassifier(\n",
    "    min_samples_split=5,\n",
    "    max_depth=5,\n",
    "    information_gain_mode=\"entropy\")\n",
    "\n",
    "classifier.fit(X_train,Y_train)\n",
    "classifier.print_tree()"
   ]
  },
  {
   "cell_type": "code",
   "execution_count": 160,
   "id": "ab6cc06e",
   "metadata": {},
   "outputs": [],
   "source": [
    "Y_pred = classifier.predict(X)"
   ]
  },
  {
   "cell_type": "code",
   "execution_count": 161,
   "id": "b5ba4cff",
   "metadata": {},
   "outputs": [
    {
     "data": {
      "text/plain": [
       "0.9"
      ]
     },
     "execution_count": 161,
     "metadata": {},
     "output_type": "execute_result"
    }
   ],
   "source": [
    "accuracy_score(Y, Y_pred)"
   ]
  },
  {
   "cell_type": "markdown",
   "id": "7253cec7",
   "metadata": {},
   "source": [
    "## Running Decision Tree on Normal Information Gain with Entropy function with Correlation Function"
   ]
  },
  {
   "cell_type": "code",
   "execution_count": 162,
   "id": "47c1ed1d",
   "metadata": {},
   "outputs": [
    {
     "name": "stdout",
     "output_type": "stream",
     "text": [
      "X_0 <= bw30-40 ? 0.8169220330840733\n",
      " left:Yes\n",
      " right:X_2 <= Low ? 0.8253038508590982\n",
      "  left:No\n",
      "  right:Yes\n"
     ]
    }
   ],
   "source": [
    "classifier_af = DecisionTreeClassifier(\n",
    "    min_samples_split=5,\n",
    "    max_depth=5,\n",
    "    normalized_correlation_values=normalized_AF_values,\n",
    "    information_gain_mode=\"entropy_af\")\n",
    "\n",
    "classifier_af.fit(X_train,Y_train)\n",
    "classifier_af.print_tree()"
   ]
  },
  {
   "cell_type": "code",
   "execution_count": 163,
   "id": "dad73226",
   "metadata": {},
   "outputs": [
    {
     "data": {
      "text/plain": [
       "0.9"
      ]
     },
     "execution_count": 163,
     "metadata": {},
     "output_type": "execute_result"
    }
   ],
   "source": [
    "Y_pred = classifier_af.predict(X)\n",
    "accuracy_score(Y, Y_pred)"
   ]
  },
  {
   "cell_type": "markdown",
   "id": "7039dc31",
   "metadata": {},
   "source": [
    "## Running Decision Tree on Normal Information Gain with Chi-squared function"
   ]
  },
  {
   "cell_type": "code",
   "execution_count": 164,
   "id": "ad98599a",
   "metadata": {},
   "outputs": [
    {
     "name": "stdout",
     "output_type": "stream",
     "text": [
      "X_0 <= bw30-40 ? 0.7071067811865476\n",
      " left:Yes\n",
      " right:X_0 <= lt30 ? 0.7071067811865476\n",
      "  left:X_1 <= White ? 0.7071067811865476\n",
      "    left:No\n",
      "    right:Yes\n",
      "  right:No\n"
     ]
    }
   ],
   "source": [
    "classifier_chi2 = DecisionTreeClassifier(\n",
    "    min_samples_split=5,\n",
    "    max_depth=5,\n",
    "    information_gain_mode=\"entropy_chi\")\n",
    "\n",
    "classifier_chi2.fit(X_train,Y_train)\n",
    "classifier_chi2.print_tree()"
   ]
  },
  {
   "cell_type": "code",
   "execution_count": 165,
   "id": "bfeb77f8",
   "metadata": {},
   "outputs": [],
   "source": [
    "Y_pred = classifier_chi2.predict(X)"
   ]
  },
  {
   "cell_type": "code",
   "execution_count": 166,
   "id": "78cb5677",
   "metadata": {},
   "outputs": [
    {
     "data": {
      "text/plain": [
       "0.7"
      ]
     },
     "execution_count": 166,
     "metadata": {},
     "output_type": "execute_result"
    }
   ],
   "source": [
    "accuracy_score(Y, Y_pred)"
   ]
  },
  {
   "cell_type": "markdown",
   "id": "449ac93f",
   "metadata": {},
   "source": [
    "## Running Decision Tree on Normal Information Gain with Gini-Index"
   ]
  },
  {
   "cell_type": "code",
   "execution_count": 167,
   "id": "1a431302",
   "metadata": {},
   "outputs": [
    {
     "name": "stdout",
     "output_type": "stream",
     "text": [
      "X_0 <= bw30-40 ? 0.6666666666666667\n",
      " left:Yes\n",
      " right:X_2 <= Low ? 0.6960736118322673\n",
      "  left:No\n",
      "  right:Yes\n"
     ]
    }
   ],
   "source": [
    "classifier_gini = DecisionTreeClassifier(\n",
    "    min_samples_split=5,\n",
    "    max_depth=5,\n",
    "    information_gain_mode=\"entropy_gini_index\")\n",
    "\n",
    "classifier_gini.fit(X_train,Y_train)\n",
    "classifier_gini.print_tree()"
   ]
  },
  {
   "cell_type": "code",
   "execution_count": 168,
   "id": "dcefd3ae",
   "metadata": {},
   "outputs": [
    {
     "data": {
      "text/plain": [
       "0.9"
      ]
     },
     "execution_count": 168,
     "metadata": {},
     "output_type": "execute_result"
    }
   ],
   "source": [
    "Y_pred = classifier_gini.predict(X)\n",
    "accuracy_score(Y, Y_pred)"
   ]
  },
  {
   "cell_type": "markdown",
   "id": "eff4e08c",
   "metadata": {},
   "source": [
    "## Using Scikit Learn "
   ]
  },
  {
   "cell_type": "code",
   "execution_count": 169,
   "id": "d7564cc5",
   "metadata": {},
   "outputs": [],
   "source": [
    "from sklearn import tree"
   ]
  },
  {
   "cell_type": "code",
   "execution_count": 170,
   "id": "c012e171",
   "metadata": {},
   "outputs": [],
   "source": [
    "X = df_encoded.drop(columns=[\"Buy-Computer\"])\n",
    "X.head()\n",
    "\n",
    "X = X.values"
   ]
  },
  {
   "cell_type": "code",
   "execution_count": 171,
   "id": "3b33ad1b",
   "metadata": {},
   "outputs": [
    {
     "data": {
      "text/plain": [
       "(10, 1)"
      ]
     },
     "execution_count": 171,
     "metadata": {},
     "output_type": "execute_result"
    }
   ],
   "source": [
    "Y = df_encoded[\"Buy-Computer\"]\n",
    "Y = Y.values.reshape(-1, 1)\n",
    "Y.shape"
   ]
  },
  {
   "cell_type": "code",
   "execution_count": 172,
   "id": "f5f65794",
   "metadata": {},
   "outputs": [
    {
     "name": "stdout",
     "output_type": "stream",
     "text": [
      "X_train shape :  (8, 4)\n",
      "Y_train shape :  (8, 1)\n",
      "X_test shape :  (2, 4)\n",
      "Y_test shape :  (2, 1)\n"
     ]
    }
   ],
   "source": [
    "X_train, X_test, Y_train, Y_test = train_test_split(X, Y, test_size=0.2, random_state=42)\n",
    "\n",
    "print(\"X_train shape : \", X_train.shape)\n",
    "print(\"Y_train shape : \", Y_train.shape)\n",
    "print(\"X_test shape : \", X_test.shape)\n",
    "print(\"Y_test shape : \", Y_test.shape)"
   ]
  },
  {
   "cell_type": "code",
   "execution_count": 173,
   "id": "d7695e88",
   "metadata": {},
   "outputs": [],
   "source": [
    "clf = tree.DecisionTreeClassifier(criterion=\"entropy\")\n",
    "clf = clf.fit(X_train, Y_train)"
   ]
  },
  {
   "cell_type": "code",
   "execution_count": 174,
   "id": "373d144b",
   "metadata": {},
   "outputs": [
    {
     "data": {
      "text/plain": [
       "1.0"
      ]
     },
     "execution_count": 174,
     "metadata": {},
     "output_type": "execute_result"
    }
   ],
   "source": [
    "Y_pred = clf.predict(X)\n",
    "accuracy_score(Y, Y_pred)"
   ]
  },
  {
   "cell_type": "code",
   "execution_count": 176,
   "id": "79c91814",
   "metadata": {},
   "outputs": [
    {
     "name": "stdout",
     "output_type": "stream",
     "text": [
      "Attribute: Index(['Age', 'Color-cloth', 'Income', 'Student'], dtype='object')\n",
      "Class values: ['No' 'Yes']\n"
     ]
    },
    {
     "data": {
      "image/png": "[encoded data removed]",
      "text/plain": [
       "<Figure size 1200x1200 with 1 Axes>"
      ]
     },
     "metadata": {},
     "output_type": "display_data"
    }
   ],
   "source": [
    "fig, axes = plt.subplots(nrows = 1,ncols = 1,figsize = (4,4), dpi=300)\n",
    "\n",
    "attr_columns = columns[:-1]\n",
    "class_values = np.unique(df[\"Buy-Computer\"].values)\n",
    "\n",
    "print(\"Attribute:\", attr_columns)\n",
    "print(\"Class values:\", class_values)\n",
    "\n",
    "tree.plot_tree(clf,\n",
    "           feature_names = attr_columns.values, \n",
    "           class_names=class_values,\n",
    "           filled = True)\n",
    "fig.savefig('Custom_Dataset_Tree.png')"
   ]
  }
 ],
 "metadata": {
  "kernelspec": {
   "display_name": "Python 3 (ipykernel)",
   "language": "python",
   "name": "python3"
  },
  "language_info": {
   "codemirror_mode": {
    "name": "ipython",
    "version": 3
   },
   "file_extension": ".py",
   "mimetype": "text/x-python",
   "name": "python",
   "nbconvert_exporter": "python",
   "pygments_lexer": "ipython3",
   "version": "3.9.13"
  }
 },
 "nbformat": 4,
 "nbformat_minor": 5
}
