{
 "cells": [
  {
   "cell_type": "markdown",
   "id": "dcb45a93",
   "metadata": {},
   "source": [
    "Created on Wed Nov  14 20:51:59 2022\n",
    "\n",
    "@author: Ipsit Sahoo\n",
    "\n",
    "ASU Id: 1224872415\n"
   ]
  },
  {
   "cell_type": "code",
   "execution_count": 303,
   "id": "8e17520a",
   "metadata": {},
   "outputs": [],
   "source": [
    "import pandas as pd\n",
    "import matplotlib.pyplot as plt\n",
    "import numpy as np\n",
    "import category_encoders as ce\n",
    "from sklearn.model_selection import train_test_split\n",
    "from sklearn import preprocessing\n",
    "from sklearn.metrics import accuracy_score"
   ]
  },
  {
   "cell_type": "code",
   "execution_count": 304,
   "id": "6dd1eb71",
   "metadata": {},
   "outputs": [
    {
     "name": "stdout",
     "output_type": "stream",
     "text": [
      "Data type:  <class 'pandas.core.frame.DataFrame'> Data Shape: (1727, 7)\n"
     ]
    }
   ],
   "source": [
    "# Read data set\n",
    "file_path = \"data/car.data\"\n",
    "dataset_columns = [\"buying\", \"maint\", \"doors\", \"persons\", \"lug_boot\", \"safety\", \"sale_condition\"]\n",
    "df_data = pd.read_csv(file_path)\n",
    "\n",
    "print(\"Data type: \", type(df_data), \"Data Shape:\", df_data.shape)"
   ]
  },
  {
   "cell_type": "code",
   "execution_count": 305,
   "id": "c3c3643f",
   "metadata": {},
   "outputs": [],
   "source": [
    "# Head\n",
    "columns = df_data.columns\n",
    "\n",
    "res = dict()\n",
    "\n",
    "for i in range(0, len(columns)):\n",
    "    res[columns[i]] = dataset_columns[i]\n",
    "\n",
    "df_data = df_data.rename(columns=res)"
   ]
  },
  {
   "cell_type": "code",
   "execution_count": 306,
   "id": "9855bbef",
   "metadata": {},
   "outputs": [
    {
     "data": {
      "text/html": [
       "<div>\n",
       "<style scoped>\n",
       "    .dataframe tbody tr th:only-of-type {\n",
       "        vertical-align: middle;\n",
       "    }\n",
       "\n",
       "    .dataframe tbody tr th {\n",
       "        vertical-align: top;\n",
       "    }\n",
       "\n",
       "    .dataframe thead th {\n",
       "        text-align: right;\n",
       "    }\n",
       "</style>\n",
       "<table border=\"1\" class=\"dataframe\">\n",
       "  <thead>\n",
       "    <tr style=\"text-align: right;\">\n",
       "      <th></th>\n",
       "      <th>buying</th>\n",
       "      <th>maint</th>\n",
       "      <th>doors</th>\n",
       "      <th>persons</th>\n",
       "      <th>lug_boot</th>\n",
       "      <th>safety</th>\n",
       "      <th>sale_condition</th>\n",
       "    </tr>\n",
       "  </thead>\n",
       "  <tbody>\n",
       "    <tr>\n",
       "      <th>0</th>\n",
       "      <td>vhigh</td>\n",
       "      <td>vhigh</td>\n",
       "      <td>2</td>\n",
       "      <td>2</td>\n",
       "      <td>small</td>\n",
       "      <td>med</td>\n",
       "      <td>unacc</td>\n",
       "    </tr>\n",
       "    <tr>\n",
       "      <th>1</th>\n",
       "      <td>vhigh</td>\n",
       "      <td>vhigh</td>\n",
       "      <td>2</td>\n",
       "      <td>2</td>\n",
       "      <td>small</td>\n",
       "      <td>high</td>\n",
       "      <td>unacc</td>\n",
       "    </tr>\n",
       "    <tr>\n",
       "      <th>2</th>\n",
       "      <td>vhigh</td>\n",
       "      <td>vhigh</td>\n",
       "      <td>2</td>\n",
       "      <td>2</td>\n",
       "      <td>med</td>\n",
       "      <td>low</td>\n",
       "      <td>unacc</td>\n",
       "    </tr>\n",
       "    <tr>\n",
       "      <th>3</th>\n",
       "      <td>vhigh</td>\n",
       "      <td>vhigh</td>\n",
       "      <td>2</td>\n",
       "      <td>2</td>\n",
       "      <td>med</td>\n",
       "      <td>med</td>\n",
       "      <td>unacc</td>\n",
       "    </tr>\n",
       "    <tr>\n",
       "      <th>4</th>\n",
       "      <td>vhigh</td>\n",
       "      <td>vhigh</td>\n",
       "      <td>2</td>\n",
       "      <td>2</td>\n",
       "      <td>med</td>\n",
       "      <td>high</td>\n",
       "      <td>unacc</td>\n",
       "    </tr>\n",
       "  </tbody>\n",
       "</table>\n",
       "</div>"
      ],
      "text/plain": [
       "  buying  maint doors persons lug_boot safety sale_condition\n",
       "0  vhigh  vhigh     2       2    small    med          unacc\n",
       "1  vhigh  vhigh     2       2    small   high          unacc\n",
       "2  vhigh  vhigh     2       2      med    low          unacc\n",
       "3  vhigh  vhigh     2       2      med    med          unacc\n",
       "4  vhigh  vhigh     2       2      med   high          unacc"
      ]
     },
     "execution_count": 306,
     "metadata": {},
     "output_type": "execute_result"
    }
   ],
   "source": [
    "df_data.head()"
   ]
  },
  {
   "cell_type": "code",
   "execution_count": 307,
   "id": "b12b8f00",
   "metadata": {},
   "outputs": [
    {
     "data": {
      "text/html": [
       "<div>\n",
       "<style scoped>\n",
       "    .dataframe tbody tr th:only-of-type {\n",
       "        vertical-align: middle;\n",
       "    }\n",
       "\n",
       "    .dataframe tbody tr th {\n",
       "        vertical-align: top;\n",
       "    }\n",
       "\n",
       "    .dataframe thead th {\n",
       "        text-align: right;\n",
       "    }\n",
       "</style>\n",
       "<table border=\"1\" class=\"dataframe\">\n",
       "  <thead>\n",
       "    <tr style=\"text-align: right;\">\n",
       "      <th></th>\n",
       "      <th>buying</th>\n",
       "      <th>maint</th>\n",
       "      <th>doors</th>\n",
       "      <th>persons</th>\n",
       "      <th>lug_boot</th>\n",
       "      <th>safety</th>\n",
       "      <th>sale_condition</th>\n",
       "    </tr>\n",
       "  </thead>\n",
       "  <tbody>\n",
       "    <tr>\n",
       "      <th>count</th>\n",
       "      <td>1727</td>\n",
       "      <td>1727</td>\n",
       "      <td>1727</td>\n",
       "      <td>1727</td>\n",
       "      <td>1727</td>\n",
       "      <td>1727</td>\n",
       "      <td>1727</td>\n",
       "    </tr>\n",
       "    <tr>\n",
       "      <th>unique</th>\n",
       "      <td>4</td>\n",
       "      <td>4</td>\n",
       "      <td>4</td>\n",
       "      <td>3</td>\n",
       "      <td>3</td>\n",
       "      <td>3</td>\n",
       "      <td>4</td>\n",
       "    </tr>\n",
       "    <tr>\n",
       "      <th>top</th>\n",
       "      <td>high</td>\n",
       "      <td>high</td>\n",
       "      <td>3</td>\n",
       "      <td>4</td>\n",
       "      <td>med</td>\n",
       "      <td>med</td>\n",
       "      <td>unacc</td>\n",
       "    </tr>\n",
       "    <tr>\n",
       "      <th>freq</th>\n",
       "      <td>432</td>\n",
       "      <td>432</td>\n",
       "      <td>432</td>\n",
       "      <td>576</td>\n",
       "      <td>576</td>\n",
       "      <td>576</td>\n",
       "      <td>1209</td>\n",
       "    </tr>\n",
       "  </tbody>\n",
       "</table>\n",
       "</div>"
      ],
      "text/plain": [
       "       buying maint doors persons lug_boot safety sale_condition\n",
       "count    1727  1727  1727    1727     1727   1727           1727\n",
       "unique      4     4     4       3        3      3              4\n",
       "top      high  high     3       4      med    med          unacc\n",
       "freq      432   432   432     576      576    576           1209"
      ]
     },
     "execution_count": 307,
     "metadata": {},
     "output_type": "execute_result"
    }
   ],
   "source": [
    "df_data.describe()"
   ]
  },
  {
   "cell_type": "markdown",
   "id": "35c8e040",
   "metadata": {},
   "source": [
    "# Label Data-points"
   ]
  },
  {
   "cell_type": "code",
   "execution_count": 308,
   "id": "b797535e",
   "metadata": {},
   "outputs": [
    {
     "data": {
      "text/plain": [
       "Index(['buying', 'maint', 'doors', 'persons', 'lug_boot', 'safety',\n",
       "       'sale_condition'],\n",
       "      dtype='object')"
      ]
     },
     "execution_count": 308,
     "metadata": {},
     "output_type": "execute_result"
    }
   ],
   "source": [
    "le = preprocessing.LabelEncoder()\n",
    "\n",
    "df_data_label_encoded = df_data.copy()\n",
    "\n",
    "df_data_label_encoded.columns"
   ]
  },
  {
   "cell_type": "code",
   "execution_count": 309,
   "id": "c725c611",
   "metadata": {},
   "outputs": [
    {
     "data": {
      "text/html": [
       "<div>\n",
       "<style scoped>\n",
       "    .dataframe tbody tr th:only-of-type {\n",
       "        vertical-align: middle;\n",
       "    }\n",
       "\n",
       "    .dataframe tbody tr th {\n",
       "        vertical-align: top;\n",
       "    }\n",
       "\n",
       "    .dataframe thead th {\n",
       "        text-align: right;\n",
       "    }\n",
       "</style>\n",
       "<table border=\"1\" class=\"dataframe\">\n",
       "  <thead>\n",
       "    <tr style=\"text-align: right;\">\n",
       "      <th></th>\n",
       "      <th>buying</th>\n",
       "      <th>maint</th>\n",
       "      <th>doors</th>\n",
       "      <th>persons</th>\n",
       "      <th>lug_boot</th>\n",
       "      <th>safety</th>\n",
       "      <th>sale_condition</th>\n",
       "    </tr>\n",
       "  </thead>\n",
       "  <tbody>\n",
       "    <tr>\n",
       "      <th>0</th>\n",
       "      <td>3</td>\n",
       "      <td>3</td>\n",
       "      <td>0</td>\n",
       "      <td>0</td>\n",
       "      <td>2</td>\n",
       "      <td>2</td>\n",
       "      <td>2</td>\n",
       "    </tr>\n",
       "    <tr>\n",
       "      <th>1</th>\n",
       "      <td>3</td>\n",
       "      <td>3</td>\n",
       "      <td>0</td>\n",
       "      <td>0</td>\n",
       "      <td>2</td>\n",
       "      <td>0</td>\n",
       "      <td>2</td>\n",
       "    </tr>\n",
       "    <tr>\n",
       "      <th>2</th>\n",
       "      <td>3</td>\n",
       "      <td>3</td>\n",
       "      <td>0</td>\n",
       "      <td>0</td>\n",
       "      <td>1</td>\n",
       "      <td>1</td>\n",
       "      <td>2</td>\n",
       "    </tr>\n",
       "    <tr>\n",
       "      <th>3</th>\n",
       "      <td>3</td>\n",
       "      <td>3</td>\n",
       "      <td>0</td>\n",
       "      <td>0</td>\n",
       "      <td>1</td>\n",
       "      <td>2</td>\n",
       "      <td>2</td>\n",
       "    </tr>\n",
       "    <tr>\n",
       "      <th>4</th>\n",
       "      <td>3</td>\n",
       "      <td>3</td>\n",
       "      <td>0</td>\n",
       "      <td>0</td>\n",
       "      <td>1</td>\n",
       "      <td>0</td>\n",
       "      <td>2</td>\n",
       "    </tr>\n",
       "  </tbody>\n",
       "</table>\n",
       "</div>"
      ],
      "text/plain": [
       "   buying  maint  doors  persons  lug_boot  safety  sale_condition\n",
       "0       3      3      0        0         2       2               2\n",
       "1       3      3      0        0         2       0               2\n",
       "2       3      3      0        0         1       1               2\n",
       "3       3      3      0        0         1       2               2\n",
       "4       3      3      0        0         1       0               2"
      ]
     },
     "execution_count": 309,
     "metadata": {},
     "output_type": "execute_result"
    }
   ],
   "source": [
    "# Label Buying\n",
    "\n",
    "df_data_label_encoded['buying'] = le.fit_transform(df_data['buying'])\n",
    "df_data_label_encoded['maint'] = le.fit_transform(df_data['maint'])\n",
    "df_data_label_encoded['doors'] = le.fit_transform(df_data['doors'])\n",
    "df_data_label_encoded['persons'] = le.fit_transform(df_data['persons'])\n",
    "df_data_label_encoded['lug_boot'] = le.fit_transform(df_data['lug_boot'])\n",
    "df_data_label_encoded['safety'] = le.fit_transform(df_data['safety'])\n",
    "df_data_label_encoded['sale_condition'] = le.fit_transform(df_data['sale_condition'])\n",
    "\n",
    "df_data_label_encoded.head()"
   ]
  },
  {
   "cell_type": "code",
   "execution_count": 310,
   "id": "1405e286",
   "metadata": {},
   "outputs": [
    {
     "data": {
      "text/plain": [
       "array([[3, 3, 0, ..., 2, 2, 2],\n",
       "       [3, 3, 0, ..., 2, 0, 2],\n",
       "       [3, 3, 0, ..., 1, 1, 2],\n",
       "       ...,\n",
       "       [1, 1, 3, ..., 0, 1, 2],\n",
       "       [1, 1, 3, ..., 0, 2, 1],\n",
       "       [1, 1, 3, ..., 0, 0, 3]])"
      ]
     },
     "execution_count": 310,
     "metadata": {},
     "output_type": "execute_result"
    }
   ],
   "source": [
    "df_data_label_encoded.values"
   ]
  },
  {
   "cell_type": "code",
   "execution_count": 311,
   "id": "81ddee0f",
   "metadata": {},
   "outputs": [
    {
     "name": "stdout",
     "output_type": "stream",
     "text": [
      "(1727, 6) (1727,)\n",
      "Unique values:  [0 1 2 3]\n",
      "Unique values:  [0 1 2 3]\n",
      "Unique values:  [0 1 2 3]\n",
      "Unique values:  [0 1 2]\n",
      "Unique values:  [0 1 2]\n",
      "Unique values:  [0 1 2]\n",
      "(6,)\n",
      "[0.1445828331332533, 0.1450330132052821, 0.15006002400960383, 0.21608643457382953, 0.16886754701880752, 0.1753701480592237]\n"
     ]
    }
   ],
   "source": [
    "def AF_algorithm(D_values):\n",
    "    af_set = []\n",
    "    C_values = D_values[:, -1]\n",
    "    AF_values = D_values[:, :-1]\n",
    "    \n",
    "    print(AF_values.shape, C_values.shape)\n",
    "    \n",
    "    for i in range(0, AF_values.shape[1]):\n",
    "        print(\"Unique values: \", np.unique(AF_values[:, i]))\n",
    "        af_set.append(\n",
    "            np.sum(\n",
    "                np.abs(AF_values[:, i] - C_values), axis=0) / len(np.unique(AF_values[:, i])))\n",
    "    \n",
    "    return af_set\n",
    "\n",
    "def calculate_normalized_AF(AF_values):\n",
    "    AF_normalized = []\n",
    "    \n",
    "    for i in range(AF_values.shape[0]):\n",
    "        AF_normalized.append(AF_values[i] / np.sum(AF_values, axis=0))\n",
    "    \n",
    "    return AF_normalized\n",
    "    \n",
    "AF_values = np.array(AF_algorithm(df_data_label_encoded.values))\n",
    "print(AF_values.shape)\n",
    "normalized_AF_values = calculate_normalized_AF(AF_values) \n",
    "\n",
    "print(normalized_AF_values)"
   ]
  },
  {
   "cell_type": "code",
   "execution_count": 312,
   "id": "8901a037",
   "metadata": {},
   "outputs": [],
   "source": [
    "# Normalization of the AF relation\n",
    "\n"
   ]
  },
  {
   "cell_type": "markdown",
   "id": "f32c8af4",
   "metadata": {},
   "source": [
    "## Prepare training and testing set"
   ]
  },
  {
   "cell_type": "code",
   "execution_count": 313,
   "id": "a1bdd390",
   "metadata": {},
   "outputs": [],
   "source": [
    "X = df_data.drop(columns=[\"sale_condition\"])\n",
    "X.head()\n",
    "\n",
    "X = X.values"
   ]
  },
  {
   "cell_type": "code",
   "execution_count": 314,
   "id": "283f6e16",
   "metadata": {},
   "outputs": [
    {
     "data": {
      "text/plain": [
       "(1727, 1)"
      ]
     },
     "execution_count": 314,
     "metadata": {},
     "output_type": "execute_result"
    }
   ],
   "source": [
    "Y = df_data[\"sale_condition\"]\n",
    "Y = Y.values.reshape(-1, 1)\n",
    "Y.shape"
   ]
  },
  {
   "cell_type": "code",
   "execution_count": 315,
   "id": "a444b9f6",
   "metadata": {},
   "outputs": [
    {
     "name": "stdout",
     "output_type": "stream",
     "text": [
      "X_train shape :  (1381, 6)\n",
      "Y_train shape :  (1381, 1)\n",
      "X_test shape :  (346, 6)\n",
      "Y_test shape :  (346, 1)\n"
     ]
    }
   ],
   "source": [
    "X_train, X_test, Y_train, Y_test = train_test_split(X, Y, test_size=0.2, random_state=42)\n",
    "\n",
    "print(\"X_train shape : \", X_train.shape)\n",
    "print(\"Y_train shape : \", Y_train.shape)\n",
    "print(\"X_test shape : \", X_test.shape)\n",
    "print(\"Y_test shape : \", Y_test.shape)"
   ]
  },
  {
   "cell_type": "code",
   "execution_count": null,
   "id": "a391b896",
   "metadata": {},
   "outputs": [],
   "source": []
  },
  {
   "cell_type": "markdown",
   "id": "ffa2b3c4",
   "metadata": {},
   "source": [
    "## Node Class"
   ]
  },
  {
   "cell_type": "code",
   "execution_count": 316,
   "id": "1705583a",
   "metadata": {},
   "outputs": [],
   "source": [
    "class Node():\n",
    "    def __init__(\n",
    "        self,\n",
    "        feature_index=None,\n",
    "        threshold=None,\n",
    "        left=None,\n",
    "        right=None,\n",
    "        info_gain=None,\n",
    "        value=None,\n",
    "        normalized_cr = None):\n",
    "        '''Constructor for the DT Nodes'''\n",
    "        \n",
    "        self.feature_index = feature_index\n",
    "        self.threshold = threshold\n",
    "        self.left = left\n",
    "        self.right = right\n",
    "        self.info_gain = info_gain\n",
    "        self.normalized_correlation = normalized_cr\n",
    "        \n",
    "        # for leaf node\n",
    "        self.value = value"
   ]
  },
  {
   "cell_type": "markdown",
   "id": "27ce5527",
   "metadata": {},
   "source": [
    "## Tree Class"
   ]
  },
  {
   "cell_type": "code",
   "execution_count": 317,
   "id": "b6bc69a9",
   "metadata": {},
   "outputs": [],
   "source": [
    "class DecisionTreeClassifier():\n",
    "    def __init__(\n",
    "        self,\n",
    "        min_samples_split=2,\n",
    "        max_depth=2,\n",
    "        normalized_correlation_values=None,\n",
    "        information_gain_mode=\"entropy\"):\n",
    "        self.root = None\n",
    "        \n",
    "        #Base Case\n",
    "        self.min_samples_split = min_samples_split\n",
    "        self.max_depth = max_depth\n",
    "        self.normalized_correlation_values = normalized_correlation_values\n",
    "        self.information_gain_mode = information_gain_mode\n",
    "        \n",
    "    def build_tree(self, dataset, curr_depth=0):\n",
    "        X, Y = dataset[:,:-1], dataset[:,-1]\n",
    "        num_samples, num_features = np.shape(X)\n",
    "        \n",
    "        # print(\"Number of samples:\", num_samples, \"Number of features:\", num_features)\n",
    "        \n",
    "        if num_samples >=  self.min_samples_split and curr_depth <= self.max_depth:\n",
    "            \n",
    "            # Find the best split\n",
    "            best_split = self.get_best_split(dataset, num_samples, num_features)\n",
    "            \n",
    "            if best_split[\"info_gain\"] > 0:\n",
    "                # Recurrence in the left SubTree\n",
    "                left_subtree = self.build_tree(best_split[\"dataset_left\"], curr_depth + 1)\n",
    "                \n",
    "                # Recurrence in right subtree\n",
    "                right_subtree = self.build_tree(best_split[\"dataset_right\"], curr_depth + 1)\n",
    "                \n",
    "                # return decision node\n",
    "                return Node(best_split[\"feature_index\"], best_split[\"threshold\"], \n",
    "                            left_subtree, right_subtree, best_split[\"info_gain\"])\n",
    "            \n",
    "        # compute leaf node\n",
    "        leaf_value = self.calculate_leaf_value(Y)\n",
    "        # return leaf node\n",
    "        return Node(value=leaf_value)\n",
    "    \n",
    "    def get_best_split(self, dataset, num_samples, num_features):\n",
    "        \n",
    "        best_split = {}\n",
    "        max_info_gain = -float(\"inf\")\n",
    "        # print(\"Dataset shape:\", dataset.shape)\n",
    "        for feature_index in range(num_features):\n",
    "            # print(feature_index)\n",
    "            feature_values = dataset[:, feature_index]\n",
    "            possible_thresholds = np.unique(feature_values)\n",
    "            \n",
    "            # Loop over all feature values in the dat\n",
    "            for threshold in possible_thresholds:\n",
    "                dataset_left, dataset_right = self.split(dataset, feature_index, threshold)\n",
    "                \n",
    "                if len(dataset_left) > 0 and len(dataset_right) > 0:\n",
    "                    Y, Y_left, Y_right = dataset[:, -1], dataset_left[:, -1], dataset_right[:, -1]\n",
    "                    \n",
    "                    # Compute Information Gain using X's and Y's\n",
    "                    if self.information_gain_mode == \"entropy_af\":\n",
    "                        curr_info_gain = self.information_gain_af(Y, Y_left, Y_right, feature_index)\n",
    "                    elif self.information_gain_mode == \"entropy_chi\":\n",
    "                        chi_square_left_node = self.information_gain_chi_squared(Y, Y_left)\n",
    "                        chi_square_right_node = self.information_gain_chi_squared(Y, Y_right)\n",
    "                        \n",
    "                        curr_info_gain = chi_square_left_node if chi_square_left_node > chi_square_right_node else chi_square_right_node\n",
    "                    else:\n",
    "                        curr_info_gain = self.information_gain(Y, Y_left, Y_right)\n",
    "                    \n",
    "                    # print(\"Current Info Gain\", curr_info_gain)\n",
    "                    \n",
    "                    # Update the best split if needed\n",
    "                    if curr_info_gain > max_info_gain:\n",
    "                        best_split[\"feature_index\"] = feature_index\n",
    "                        best_split[\"threshold\"] = threshold\n",
    "                        best_split[\"dataset_left\"] = dataset_left\n",
    "                        best_split[\"dataset_right\"] = dataset_right\n",
    "                        best_split[\"info_gain\"] = curr_info_gain\n",
    "                        max_info_gain = curr_info_gain\n",
    "                \n",
    "        return best_split\n",
    "    \n",
    "    def split(self, dataset, feature_index, threshold):\n",
    "        ''' function to split the data '''\n",
    "        # print(\"Feature Index:\", feature_index, \"Threshold:\", threshold)\n",
    "        \n",
    "        dataset_left = np.array([row for row in dataset if row[feature_index]<=threshold])\n",
    "        dataset_right = np.array([row for row in dataset if row[feature_index]>threshold])\n",
    "        \n",
    "        # print(\"Y:\", Y_left.shape, Y_right.shape)\n",
    "        return dataset_left, dataset_right\n",
    "    \n",
    "    def information_gain_af(self, parent, l_child, r_child, f_index):\n",
    "        p_l = len(l_child) / len(parent)\n",
    "        p_r = len(r_child) / len(parent)\n",
    "        \n",
    "        return self.entropy(parent) - p_l * self.entropy(l_child) * self.normalized_correlation_values[f_index] - p_r * self.entropy(r_child) * self.normalized_correlation_values[f_index]\n",
    "    \n",
    "    def information_gain(self, parent, l_child, r_child):\n",
    "        p_l = len(l_child) / len(parent)\n",
    "        p_r = len(r_child) / len(parent)\n",
    "\n",
    "        return self.entropy(parent) - p_l * self.entropy(l_child) - p_r * self.entropy(r_child)\n",
    "    \n",
    "    def information_gain_chi_squared(self, parent, child):\n",
    "        unique_parent, counts_parent = np.unique(parent, return_counts=True)\n",
    "        total_parent = np.sum(counts_parent)\n",
    "        \n",
    "        expected = np.mean([c / total_parent for c in counts_parent])\n",
    "        # print(\"Expected: \", expected)\n",
    "        \n",
    "        unique_child, counts_child = np.unique(child, return_counts=True)\n",
    "        total_child = sum(counts_child)\n",
    "        \n",
    "        actual = np.mean([c / total_child for c in counts_child])\n",
    "        \n",
    "        # print(\"Actual: \", actual)\n",
    "        \n",
    "        return np.sqrt((expected - actual) ** 2 / expected)\n",
    "        \n",
    "        \n",
    "        \n",
    "    def entropy(self, Y):\n",
    "        class_labels = np.unique(Y)\n",
    "        entropy = 0\n",
    "        \n",
    "        for cls in class_labels:\n",
    "            p_cls = len(Y[Y == cls]) / len(Y)\n",
    "            entropy += -p_cls * np.log2(p_cls)\n",
    "            \n",
    "        return entropy\n",
    "    \n",
    "    def calculate_leaf_value(self, Y):\n",
    "        ''' function to compute leaf node '''\n",
    "        \n",
    "        Y = list(Y)\n",
    "        return max(Y, key=Y.count)\n",
    "    \n",
    "    def print_tree(self, tree=None, indent=\" \"):\n",
    "        \n",
    "        if not tree:\n",
    "            tree = self.root\n",
    "            \n",
    "        if tree.value is not None:\n",
    "            print(tree.value)\n",
    "            \n",
    "        else:\n",
    "            print(\"X_\"+str(tree.feature_index), \"<=\", tree.threshold, \"?\", tree.info_gain)\n",
    "            print(\"%sleft:\" % (indent), end=\"\")\n",
    "            self.print_tree(tree.left, indent + indent)\n",
    "            print(\"%sright:\" % (indent), end=\"\")\n",
    "            self.print_tree(tree.right, indent + indent)\n",
    "            \n",
    "    def predict(self, X):\n",
    "        ''' function to predict new dataset '''\n",
    "        predictions = []\n",
    "        \n",
    "        for x in X:\n",
    "            # print(x)\n",
    "            predictions.append(\n",
    "                self.make_prediction(x, self.root))\n",
    "            \n",
    "        return predictions\n",
    "    \n",
    "    def fit(self, X, Y):\n",
    "        ''' function to train the tree '''\n",
    "        dataset = np.concatenate((X, Y), axis=1)\n",
    "        \n",
    "        self.root = self.build_tree(dataset)\n",
    "    \n",
    "    def make_prediction(self, x, tree):\n",
    "        ''' function to predict a single data point '''\n",
    "        \n",
    "        if tree.value != None:\n",
    "            return tree.value\n",
    "        # print(x)\n",
    "        feature_val = x[tree.feature_index]\n",
    "        \n",
    "        if feature_val<=tree.threshold:\n",
    "            return self.make_prediction(x, tree.left)\n",
    "        else:\n",
    "            return self.make_prediction(x, tree.right)"
   ]
  },
  {
   "cell_type": "markdown",
   "id": "effb1b13",
   "metadata": {},
   "source": [
    "## Running Decision Tree on Normal Information Gain with Chi-squared function"
   ]
  },
  {
   "cell_type": "code",
   "execution_count": 318,
   "id": "3848dcaf",
   "metadata": {},
   "outputs": [
    {
     "name": "stdout",
     "output_type": "stream",
     "text": [
      "X_3 <= 2 ? 1.5\n",
      " left:unacc\n",
      " right:X_0 <= high ? 0.5\n",
      "  left:X_1 <= med ? 0.7071067811865476\n",
      "    left:acc\n",
      "    right:unacc\n",
      "  right:X_0 <= med ? 0.5\n",
      "    left:X_1 <= med ? 0.5\n",
      "        left:X_1 <= high ? 0.16666666666666663\n",
      "                left:X_0 <= low ? 0.2886751345948129\n",
      "                                left:acc\n",
      "                                right:unacc\n",
      "                right:X_4 <= med ? 0.16666666666666663\n",
      "                                left:unacc\n",
      "                                right:unacc\n",
      "        right:unacc\n",
      "    right:X_1 <= high ? 0.7071067811865476\n",
      "        left:unacc\n",
      "        right:X_1 <= med ? 0.7071067811865476\n",
      "                left:acc\n",
      "                right:unacc\n"
     ]
    }
   ],
   "source": [
    "classifier_chi2 = DecisionTreeClassifier(\n",
    "    min_samples_split=5,\n",
    "    max_depth=5,\n",
    "    information_gain_mode=\"entropy_chi\")\n",
    "\n",
    "classifier_chi2.fit(X_train,Y_train)\n",
    "classifier_chi2.print_tree()"
   ]
  },
  {
   "cell_type": "code",
   "execution_count": 319,
   "id": "c985f5dd",
   "metadata": {},
   "outputs": [],
   "source": [
    "Y_pred = classifier_chi2.predict(X_test)"
   ]
  },
  {
   "cell_type": "code",
   "execution_count": 320,
   "id": "63e68332",
   "metadata": {},
   "outputs": [
    {
     "data": {
      "text/plain": [
       "0.6820809248554913"
      ]
     },
     "execution_count": 320,
     "metadata": {},
     "output_type": "execute_result"
    }
   ],
   "source": [
    "accuracy_score(Y_test, Y_pred)"
   ]
  },
  {
   "cell_type": "markdown",
   "id": "0bae39f4",
   "metadata": {},
   "source": [
    "## Running Decision Tree on Normal Information Gain with Entropy function"
   ]
  },
  {
   "cell_type": "code",
   "execution_count": 321,
   "id": "b13d31e2",
   "metadata": {},
   "outputs": [
    {
     "name": "stdout",
     "output_type": "stream",
     "text": [
      "X_3 <= 2 ? 0.21444533317462178\n",
      " left:unacc\n",
      " right:X_5 <= high ? 0.2082948718612473\n",
      "  left:X_0 <= med ? 0.16803030425623927\n",
      "    left:X_0 <= high ? 0.2715517177987672\n",
      "        left:X_1 <= med ? 0.6268051352479396\n",
      "                left:X_2 <= 2 ? 0.09478254050054474\n",
      "                                left:acc\n",
      "                                right:acc\n",
      "                right:unacc\n",
      "        right:X_4 <= med ? 0.4064816845876311\n",
      "                left:X_1 <= med ? 0.3967568485930254\n",
      "                                left:vgood\n",
      "                                right:acc\n",
      "                right:X_2 <= 2 ? 0.3577824752084572\n",
      "                                left:unacc\n",
      "                                right:acc\n",
      "    right:X_1 <= high ? 0.3201008967002281\n",
      "        left:unacc\n",
      "        right:X_1 <= med ? 0.7173155132713623\n",
      "                left:X_2 <= 2 ? 0.09139023062145002\n",
      "                                left:acc\n",
      "                                right:acc\n",
      "                right:unacc\n",
      "  right:X_5 <= low ? 0.3616944135679201\n",
      "    left:unacc\n",
      "    right:X_4 <= med ? 0.16697366384853202\n",
      "        left:X_1 <= med ? 0.1703411549843979\n",
      "                left:X_0 <= med ? 0.19283096511339715\n",
      "                                left:acc\n",
      "                                right:acc\n",
      "                right:X_0 <= high ? 0.19776974877743747\n",
      "                                left:unacc\n",
      "                                right:unacc\n",
      "        right:X_0 <= high ? 0.13389819289621607\n",
      "                left:unacc\n",
      "                right:X_0 <= med ? 0.2825471055622255\n",
      "                                left:acc\n",
      "                                right:unacc\n"
     ]
    }
   ],
   "source": [
    "classifier = DecisionTreeClassifier(\n",
    "    min_samples_split=5,\n",
    "    max_depth=5,\n",
    "    information_gain_mode=\"entropy\")\n",
    "\n",
    "classifier.fit(X_train,Y_train)\n",
    "classifier.print_tree()"
   ]
  },
  {
   "cell_type": "code",
   "execution_count": 322,
   "id": "a7425259",
   "metadata": {},
   "outputs": [],
   "source": [
    "Y_pred = classifier.predict(X_test)"
   ]
  },
  {
   "cell_type": "code",
   "execution_count": 323,
   "id": "0c6410f5",
   "metadata": {},
   "outputs": [
    {
     "data": {
      "text/plain": [
       "0.869942196531792"
      ]
     },
     "execution_count": 323,
     "metadata": {},
     "output_type": "execute_result"
    }
   ],
   "source": [
    "accuracy_score(Y_test, Y_pred)"
   ]
  },
  {
   "cell_type": "markdown",
   "id": "df6c7201",
   "metadata": {},
   "source": [
    "## Running Decision Tree on Normal Information Gain with Entropy function with Correlation Function"
   ]
  },
  {
   "cell_type": "code",
   "execution_count": 324,
   "id": "141c8e64",
   "metadata": {},
   "outputs": [
    {
     "name": "stdout",
     "output_type": "stream",
     "text": [
      "X_1 <= med ? 1.0239412477617063\n",
      " left:X_0 <= high ? 1.140071605998169\n",
      "  left:X_1 <= low ? 0.7933024553768427\n",
      "    left:X_5 <= high ? 0.7994503252960464\n",
      "        left:X_3 <= 2 ? 0.8829064196363225\n",
      "                left:unacc\n",
      "                right:X_2 <= 2 ? 0.24513109762833554\n",
      "                                left:acc\n",
      "                                right:acc\n",
      "        right:X_5 <= low ? 0.6022220281225843\n",
      "                left:unacc\n",
      "                right:X_4 <= med ? 0.8380847578297481\n",
      "                                left:acc\n",
      "                                right:unacc\n",
      "    right:X_5 <= high ? 0.7807444845960463\n",
      "        left:X_3 <= 2 ? 0.8866832830233871\n",
      "                left:unacc\n",
      "                right:X_2 <= 2 ? 0.2571342430561564\n",
      "                                left:acc\n",
      "                                right:acc\n",
      "        right:X_5 <= low ? 0.6076682816825143\n",
      "                left:unacc\n",
      "                right:X_4 <= med ? 0.851957724698707\n",
      "                                left:acc\n",
      "                                right:unacc\n",
      "  right:X_0 <= med ? 1.2042696122409966\n",
      "    left:X_1 <= high ? 1.3521025125692694\n",
      "        left:X_0 <= low ? 0.9803112645842974\n",
      "                left:X_5 <= low ? 1.0951277553667105\n",
      "                                left:unacc\n",
      "                                right:acc\n",
      "                right:X_5 <= high ? 0.7817669525044739\n",
      "                                left:acc\n",
      "                                right:unacc\n",
      "        right:X_0 <= low ? 1.4092408182725902\n",
      "                left:X_1 <= low ? 1.3394134532003574\n",
      "                                left:unacc\n",
      "                                right:unacc\n",
      "                right:X_1 <= low ? 1.428728487044226\n",
      "                                left:unacc\n",
      "                                right:unacc\n",
      "    right:X_1 <= high ? 0.6981651479803288\n",
      "        left:unacc\n",
      "        right:X_5 <= high ? 0.8117747590994092\n",
      "                left:X_3 <= 2 ? 0.8308744391209596\n",
      "                                left:unacc\n",
      "                                right:acc\n",
      "                right:X_5 <= low ? 0.6273092658688375\n",
      "                                left:unacc\n",
      "                                right:unacc\n",
      " right:X_0 <= med ? 0.5251392300730688\n",
      "  left:X_0 <= high ? 0.6298822128293657\n",
      "    left:unacc\n",
      "    right:X_5 <= high ? 0.7414825507592112\n",
      "        left:X_3 <= 2 ? 0.939443058205064\n",
      "                left:unacc\n",
      "                right:X_2 <= 2 ? 0.2728582127126207\n",
      "                                left:acc\n",
      "                                right:acc\n",
      "        right:X_5 <= low ? 0.4909432498589138\n",
      "                left:unacc\n",
      "                right:X_4 <= med ? 0.7471451741049402\n",
      "                                left:unacc\n",
      "                                right:unacc\n",
      "  right:unacc\n"
     ]
    }
   ],
   "source": [
    "classifier_af = DecisionTreeClassifier(\n",
    "    min_samples_split=5,\n",
    "    max_depth=5,\n",
    "    normalized_correlation_values=normalized_AF_values,\n",
    "    information_gain_mode=\"entropy_af\")\n",
    "\n",
    "classifier_af.fit(X_train,Y_train)\n",
    "classifier_af.print_tree()"
   ]
  },
  {
   "cell_type": "code",
   "execution_count": 325,
   "id": "3de7b54f",
   "metadata": {},
   "outputs": [
    {
     "data": {
      "text/plain": [
       "0.7630057803468208"
      ]
     },
     "execution_count": 325,
     "metadata": {},
     "output_type": "execute_result"
    }
   ],
   "source": [
    "Y_pred = classifier_af.predict(X_test)\n",
    "accuracy_score(Y_test, Y_pred)"
   ]
  }
 ],
 "metadata": {
  "kernelspec": {
   "display_name": "Python 3 (ipykernel)",
   "language": "python",
   "name": "python3"
  },
  "language_info": {
   "codemirror_mode": {
    "name": "ipython",
    "version": 3
   },
   "file_extension": ".py",
   "mimetype": "text/x-python",
   "name": "python",
   "nbconvert_exporter": "python",
   "pygments_lexer": "ipython3",
   "version": "3.9.13"
  }
 },
 "nbformat": 4,
 "nbformat_minor": 5
}
