{
 "cells": [
  {
   "cell_type": "markdown",
   "id": "6b4cae96",
   "metadata": {},
   "source": [
    "Created on Wed Dec 7 09:53: 21 2022\n",
    "\n",
    "@author: Ipsit Sahoo\n",
    "\n",
    "ASU Id: 1224872415\n"
   ]
  },
  {
   "cell_type": "code",
   "execution_count": 48,
   "id": "8e93aefb",
   "metadata": {},
   "outputs": [],
   "source": [
    "from sklearn import tree\n",
    "import pandas as pd\n",
    "import matplotlib.pyplot as plt\n",
    "import numpy as np\n",
    "from sklearn import preprocessing\n",
    "from sklearn.model_selection import train_test_split\n",
    "from sklearn.metrics import accuracy_score"
   ]
  },
  {
   "cell_type": "code",
   "execution_count": 49,
   "id": "82a80ea3",
   "metadata": {},
   "outputs": [
    {
     "name": "stdout",
     "output_type": "stream",
     "text": [
      "Data type:  <class 'pandas.core.frame.DataFrame'> Data Shape: (1727, 7)\n"
     ]
    }
   ],
   "source": [
    "# Read data set\n",
    "file_path = \"data/car.data\"\n",
    "dataset_columns = [\"buying\", \"maint\", \"doors\", \"persons\", \"lug_boot\", \"safety\", \"sale_condition\"]\n",
    "df_data = pd.read_csv(file_path)\n",
    "\n",
    "print(\"Data type: \", type(df_data), \"Data Shape:\", df_data.shape)"
   ]
  },
  {
   "cell_type": "code",
   "execution_count": 50,
   "id": "8d06acb2",
   "metadata": {},
   "outputs": [],
   "source": [
    "# Head\n",
    "columns = df_data.columns\n",
    "\n",
    "res = dict()\n",
    "\n",
    "for i in range(0, len(columns)):\n",
    "    res[columns[i]] = dataset_columns[i]\n",
    "\n",
    "df_data = df_data.rename(columns=res)"
   ]
  },
  {
   "cell_type": "markdown",
   "id": "d931399e",
   "metadata": {},
   "source": [
    "## Label Data"
   ]
  },
  {
   "cell_type": "code",
   "execution_count": 51,
   "id": "cd6589e1",
   "metadata": {},
   "outputs": [
    {
     "data": {
      "text/plain": [
       "Index(['buying', 'maint', 'doors', 'persons', 'lug_boot', 'safety',\n",
       "       'sale_condition'],\n",
       "      dtype='object')"
      ]
     },
     "execution_count": 51,
     "metadata": {},
     "output_type": "execute_result"
    }
   ],
   "source": [
    "le = preprocessing.LabelEncoder()\n",
    "\n",
    "df_data_label_encoded = df_data.copy()\n",
    "\n",
    "df_data_label_encoded.columns"
   ]
  },
  {
   "cell_type": "code",
   "execution_count": 52,
   "id": "788556fe",
   "metadata": {},
   "outputs": [
    {
     "data": {
      "text/html": [
       "<div>\n",
       "<style scoped>\n",
       "    .dataframe tbody tr th:only-of-type {\n",
       "        vertical-align: middle;\n",
       "    }\n",
       "\n",
       "    .dataframe tbody tr th {\n",
       "        vertical-align: top;\n",
       "    }\n",
       "\n",
       "    .dataframe thead th {\n",
       "        text-align: right;\n",
       "    }\n",
       "</style>\n",
       "<table border=\"1\" class=\"dataframe\">\n",
       "  <thead>\n",
       "    <tr style=\"text-align: right;\">\n",
       "      <th></th>\n",
       "      <th>buying</th>\n",
       "      <th>maint</th>\n",
       "      <th>doors</th>\n",
       "      <th>persons</th>\n",
       "      <th>lug_boot</th>\n",
       "      <th>safety</th>\n",
       "      <th>sale_condition</th>\n",
       "    </tr>\n",
       "  </thead>\n",
       "  <tbody>\n",
       "    <tr>\n",
       "      <th>0</th>\n",
       "      <td>3</td>\n",
       "      <td>3</td>\n",
       "      <td>0</td>\n",
       "      <td>0</td>\n",
       "      <td>2</td>\n",
       "      <td>2</td>\n",
       "      <td>2</td>\n",
       "    </tr>\n",
       "    <tr>\n",
       "      <th>1</th>\n",
       "      <td>3</td>\n",
       "      <td>3</td>\n",
       "      <td>0</td>\n",
       "      <td>0</td>\n",
       "      <td>2</td>\n",
       "      <td>0</td>\n",
       "      <td>2</td>\n",
       "    </tr>\n",
       "    <tr>\n",
       "      <th>2</th>\n",
       "      <td>3</td>\n",
       "      <td>3</td>\n",
       "      <td>0</td>\n",
       "      <td>0</td>\n",
       "      <td>1</td>\n",
       "      <td>1</td>\n",
       "      <td>2</td>\n",
       "    </tr>\n",
       "    <tr>\n",
       "      <th>3</th>\n",
       "      <td>3</td>\n",
       "      <td>3</td>\n",
       "      <td>0</td>\n",
       "      <td>0</td>\n",
       "      <td>1</td>\n",
       "      <td>2</td>\n",
       "      <td>2</td>\n",
       "    </tr>\n",
       "    <tr>\n",
       "      <th>4</th>\n",
       "      <td>3</td>\n",
       "      <td>3</td>\n",
       "      <td>0</td>\n",
       "      <td>0</td>\n",
       "      <td>1</td>\n",
       "      <td>0</td>\n",
       "      <td>2</td>\n",
       "    </tr>\n",
       "  </tbody>\n",
       "</table>\n",
       "</div>"
      ],
      "text/plain": [
       "   buying  maint  doors  persons  lug_boot  safety  sale_condition\n",
       "0       3      3      0        0         2       2               2\n",
       "1       3      3      0        0         2       0               2\n",
       "2       3      3      0        0         1       1               2\n",
       "3       3      3      0        0         1       2               2\n",
       "4       3      3      0        0         1       0               2"
      ]
     },
     "execution_count": 52,
     "metadata": {},
     "output_type": "execute_result"
    }
   ],
   "source": [
    "# Label Buying\n",
    "\n",
    "df_data_label_encoded['buying'] = le.fit_transform(df_data['buying'])\n",
    "df_data_label_encoded['maint'] = le.fit_transform(df_data['maint'])\n",
    "df_data_label_encoded['doors'] = le.fit_transform(df_data['doors'])\n",
    "df_data_label_encoded['persons'] = le.fit_transform(df_data['persons'])\n",
    "df_data_label_encoded['lug_boot'] = le.fit_transform(df_data['lug_boot'])\n",
    "df_data_label_encoded['safety'] = le.fit_transform(df_data['safety'])\n",
    "df_data_label_encoded['sale_condition'] = le.fit_transform(df_data['sale_condition'])\n",
    "\n",
    "df_data_label_encoded.head()"
   ]
  },
  {
   "cell_type": "code",
   "execution_count": 53,
   "id": "d589c94a",
   "metadata": {},
   "outputs": [],
   "source": [
    "X = df_data_label_encoded.drop(columns=[\"sale_condition\"])\n",
    "X.head()\n",
    "\n",
    "X = X.values"
   ]
  },
  {
   "cell_type": "code",
   "execution_count": 54,
   "id": "4611e25b",
   "metadata": {},
   "outputs": [
    {
     "data": {
      "text/plain": [
       "(1727, 1)"
      ]
     },
     "execution_count": 54,
     "metadata": {},
     "output_type": "execute_result"
    }
   ],
   "source": [
    "Y = df_data_label_encoded[\"sale_condition\"]\n",
    "Y = Y.values.reshape(-1, 1)\n",
    "Y.shape"
   ]
  },
  {
   "cell_type": "code",
   "execution_count": 55,
   "id": "86be2b80",
   "metadata": {},
   "outputs": [
    {
     "name": "stdout",
     "output_type": "stream",
     "text": [
      "X_train shape :  (1381, 6)\n",
      "Y_train shape :  (1381, 1)\n",
      "X_test shape :  (346, 6)\n",
      "Y_test shape :  (346, 1)\n"
     ]
    }
   ],
   "source": [
    "X_train, X_test, Y_train, Y_test = train_test_split(X, Y, test_size=0.2, random_state=42)\n",
    "\n",
    "print(\"X_train shape : \", X_train.shape)\n",
    "print(\"Y_train shape : \", Y_train.shape)\n",
    "print(\"X_test shape : \", X_test.shape)\n",
    "print(\"Y_test shape : \", Y_test.shape)"
   ]
  },
  {
   "cell_type": "markdown",
   "id": "91cbd19d",
   "metadata": {},
   "source": [
    "## Decision Tree SK-learn using Entropy function"
   ]
  },
  {
   "cell_type": "code",
   "execution_count": 56,
   "id": "b25d80d5",
   "metadata": {},
   "outputs": [],
   "source": [
    "clf = tree.DecisionTreeClassifier(criterion=\"entropy\")\n",
    "clf = clf.fit(X_train, Y_train)"
   ]
  },
  {
   "cell_type": "code",
   "execution_count": 57,
   "id": "077c09e7",
   "metadata": {},
   "outputs": [
    {
     "data": {
      "text/plain": [
       "0.9739884393063584"
      ]
     },
     "execution_count": 57,
     "metadata": {},
     "output_type": "execute_result"
    }
   ],
   "source": [
    "Y_pred = clf.predict(X_test)\n",
    "accuracy_score(Y_test, Y_pred)"
   ]
  },
  {
   "cell_type": "code",
   "execution_count": 58,
   "id": "46bec2af",
   "metadata": {},
   "outputs": [
    {
     "data": {
      "text/plain": [
       "[Text(0.5222537878787878, 0.9642857142857143, 'X[3] <= 0.5\\nentropy = 1.19\\nsamples = 1381\\nvalue = [307, 54, 972, 48]'),\n",
       " Text(0.5071022727272727, 0.8928571428571429, 'entropy = 0.0\\nsamples = 458\\nvalue = [0, 0, 458, 0]'),\n",
       " Text(0.537405303030303, 0.8928571428571429, 'X[5] <= 0.5\\nentropy = 1.46\\nsamples = 923\\nvalue = [307, 54, 514, 48]'),\n",
       " Text(0.25757575757575757, 0.8214285714285714, 'X[0] <= 2.5\\nentropy = 1.644\\nsamples = 302\\nvalue = [165, 20, 69, 48]'),\n",
       " Text(0.13636363636363635, 0.75, 'X[0] <= 0.5\\nentropy = 1.639\\nsamples = 225\\nvalue = [127, 20, 30, 48]'),\n",
       " Text(0.06060606060606061, 0.6785714285714286, 'X[1] <= 2.5\\nentropy = 0.839\\nsamples = 82\\nvalue = [60, 0, 22, 0]'),\n",
       " Text(0.045454545454545456, 0.6071428571428571, 'X[2] <= 0.5\\nentropy = 0.276\\nsamples = 63\\nvalue = [60, 0, 3, 0]'),\n",
       " Text(0.030303030303030304, 0.5357142857142857, 'X[4] <= 1.5\\nentropy = 0.672\\nsamples = 17\\nvalue = [14, 0, 3, 0]'),\n",
       " Text(0.015151515151515152, 0.4642857142857143, 'entropy = 0.0\\nsamples = 11\\nvalue = [11, 0, 0, 0]'),\n",
       " Text(0.045454545454545456, 0.4642857142857143, 'X[3] <= 1.5\\nentropy = 1.0\\nsamples = 6\\nvalue = [3, 0, 3, 0]'),\n",
       " Text(0.030303030303030304, 0.39285714285714285, 'entropy = 0.0\\nsamples = 3\\nvalue = [3, 0, 0, 0]'),\n",
       " Text(0.06060606060606061, 0.39285714285714285, 'entropy = 0.0\\nsamples = 3\\nvalue = [0, 0, 3, 0]'),\n",
       " Text(0.06060606060606061, 0.5357142857142857, 'entropy = 0.0\\nsamples = 46\\nvalue = [46, 0, 0, 0]'),\n",
       " Text(0.07575757575757576, 0.6071428571428571, 'entropy = 0.0\\nsamples = 19\\nvalue = [0, 0, 19, 0]'),\n",
       " Text(0.21212121212121213, 0.6785714285714286, 'X[4] <= 1.5\\nentropy = 1.671\\nsamples = 143\\nvalue = [67, 20, 8, 48]'),\n",
       " Text(0.15151515151515152, 0.6071428571428571, 'X[1] <= 2.5\\nentropy = 1.17\\nsamples = 90\\nvalue = [39, 3, 0, 48]'),\n",
       " Text(0.13636363636363635, 0.5357142857142857, 'X[1] <= 0.5\\nentropy = 1.039\\nsamples = 67\\nvalue = [16, 3, 0, 48]'),\n",
       " Text(0.10606060606060606, 0.4642857142857143, 'X[0] <= 1.5\\nentropy = 0.946\\nsamples = 22\\nvalue = [14, 0, 0, 8]'),\n",
       " Text(0.09090909090909091, 0.39285714285714285, 'X[2] <= 0.5\\nentropy = 0.722\\nsamples = 10\\nvalue = [2, 0, 0, 8]'),\n",
       " Text(0.07575757575757576, 0.32142857142857145, 'X[4] <= 0.5\\nentropy = 0.918\\nsamples = 3\\nvalue = [2, 0, 0, 1]'),\n",
       " Text(0.06060606060606061, 0.25, 'entropy = 0.0\\nsamples = 1\\nvalue = [0, 0, 0, 1]'),\n",
       " Text(0.09090909090909091, 0.25, 'entropy = 0.0\\nsamples = 2\\nvalue = [2, 0, 0, 0]'),\n",
       " Text(0.10606060606060606, 0.32142857142857145, 'entropy = 0.0\\nsamples = 7\\nvalue = [0, 0, 0, 7]'),\n",
       " Text(0.12121212121212122, 0.39285714285714285, 'entropy = 0.0\\nsamples = 12\\nvalue = [12, 0, 0, 0]'),\n",
       " Text(0.16666666666666666, 0.4642857142857143, 'X[2] <= 1.5\\nentropy = 0.611\\nsamples = 45\\nvalue = [2, 3, 0, 40]'),\n",
       " Text(0.15151515151515152, 0.39285714285714285, 'X[4] <= 0.5\\nentropy = 1.122\\nsamples = 18\\nvalue = [2, 3, 0, 13]'),\n",
       " Text(0.13636363636363635, 0.32142857142857145, 'entropy = 0.0\\nsamples = 11\\nvalue = [0, 0, 0, 11]'),\n",
       " Text(0.16666666666666666, 0.32142857142857145, 'X[0] <= 1.5\\nentropy = 1.557\\nsamples = 7\\nvalue = [2, 3, 0, 2]'),\n",
       " Text(0.15151515151515152, 0.25, 'entropy = 0.0\\nsamples = 3\\nvalue = [0, 3, 0, 0]'),\n",
       " Text(0.18181818181818182, 0.25, 'X[3] <= 1.5\\nentropy = 1.0\\nsamples = 4\\nvalue = [2, 0, 0, 2]'),\n",
       " Text(0.16666666666666666, 0.17857142857142858, 'entropy = 0.0\\nsamples = 2\\nvalue = [2, 0, 0, 0]'),\n",
       " Text(0.19696969696969696, 0.17857142857142858, 'entropy = 0.0\\nsamples = 2\\nvalue = [0, 0, 0, 2]'),\n",
       " Text(0.18181818181818182, 0.39285714285714285, 'entropy = 0.0\\nsamples = 27\\nvalue = [0, 0, 0, 27]'),\n",
       " Text(0.16666666666666666, 0.5357142857142857, 'entropy = 0.0\\nsamples = 23\\nvalue = [23, 0, 0, 0]'),\n",
       " Text(0.2727272727272727, 0.6071428571428571, 'X[2] <= 0.5\\nentropy = 1.424\\nsamples = 53\\nvalue = [28, 17, 8, 0]'),\n",
       " Text(0.24242424242424243, 0.5357142857142857, 'X[3] <= 1.5\\nentropy = 1.414\\nsamples = 14\\nvalue = [3, 3, 8, 0]'),\n",
       " Text(0.22727272727272727, 0.4642857142857143, 'X[1] <= 2.5\\nentropy = 1.0\\nsamples = 6\\nvalue = [3, 3, 0, 0]'),\n",
       " Text(0.21212121212121213, 0.39285714285714285, 'X[1] <= 0.5\\nentropy = 0.811\\nsamples = 4\\nvalue = [1, 3, 0, 0]'),\n",
       " Text(0.19696969696969696, 0.32142857142857145, 'entropy = 0.0\\nsamples = 1\\nvalue = [1, 0, 0, 0]'),\n",
       " Text(0.22727272727272727, 0.32142857142857145, 'entropy = 0.0\\nsamples = 3\\nvalue = [0, 3, 0, 0]'),\n",
       " Text(0.24242424242424243, 0.39285714285714285, 'entropy = 0.0\\nsamples = 2\\nvalue = [2, 0, 0, 0]'),\n",
       " Text(0.25757575757575757, 0.4642857142857143, 'entropy = 0.0\\nsamples = 8\\nvalue = [0, 0, 8, 0]'),\n",
       " Text(0.30303030303030304, 0.5357142857142857, 'X[1] <= 0.5\\nentropy = 0.942\\nsamples = 39\\nvalue = [25, 14, 0, 0]'),\n",
       " Text(0.2878787878787879, 0.4642857142857143, 'entropy = 0.0\\nsamples = 11\\nvalue = [11, 0, 0, 0]'),\n",
       " Text(0.3181818181818182, 0.4642857142857143, 'X[1] <= 2.5\\nentropy = 1.0\\nsamples = 28\\nvalue = [14, 14, 0, 0]'),\n",
       " Text(0.30303030303030304, 0.39285714285714285, 'X[0] <= 1.5\\nentropy = 0.764\\nsamples = 18\\nvalue = [4, 14, 0, 0]'),\n",
       " Text(0.2878787878787879, 0.32142857142857145, 'entropy = 0.0\\nsamples = 10\\nvalue = [0, 10, 0, 0]'),\n",
       " Text(0.3181818181818182, 0.32142857142857145, 'X[1] <= 1.5\\nentropy = 1.0\\nsamples = 8\\nvalue = [4, 4, 0, 0]'),\n",
       " Text(0.30303030303030304, 0.25, 'entropy = 0.0\\nsamples = 4\\nvalue = [0, 4, 0, 0]'),\n",
       " Text(0.3333333333333333, 0.25, 'entropy = 0.0\\nsamples = 4\\nvalue = [4, 0, 0, 0]'),\n",
       " Text(0.3333333333333333, 0.39285714285714285, 'entropy = 0.0\\nsamples = 10\\nvalue = [10, 0, 0, 0]'),\n",
       " Text(0.3787878787878788, 0.75, 'X[1] <= 0.5\\nentropy = 1.0\\nsamples = 77\\nvalue = [38, 0, 39, 0]'),\n",
       " Text(0.36363636363636365, 0.6785714285714286, 'entropy = 0.0\\nsamples = 20\\nvalue = [0, 0, 20, 0]'),\n",
       " Text(0.3939393939393939, 0.6785714285714286, 'X[1] <= 2.5\\nentropy = 0.918\\nsamples = 57\\nvalue = [38, 0, 19, 0]'),\n",
       " Text(0.3787878787878788, 0.6071428571428571, 'X[2] <= 0.5\\nentropy = 0.286\\nsamples = 40\\nvalue = [38, 0, 2, 0]'),\n",
       " Text(0.36363636363636365, 0.5357142857142857, 'X[4] <= 1.5\\nentropy = 0.65\\nsamples = 12\\nvalue = [10, 0, 2, 0]'),\n",
       " Text(0.3484848484848485, 0.4642857142857143, 'entropy = 0.0\\nsamples = 8\\nvalue = [8, 0, 0, 0]'),\n",
       " Text(0.3787878787878788, 0.4642857142857143, 'X[3] <= 1.5\\nentropy = 1.0\\nsamples = 4\\nvalue = [2, 0, 2, 0]'),\n",
       " Text(0.36363636363636365, 0.39285714285714285, 'entropy = 0.0\\nsamples = 2\\nvalue = [2, 0, 0, 0]'),\n",
       " Text(0.3939393939393939, 0.39285714285714285, 'entropy = 0.0\\nsamples = 2\\nvalue = [0, 0, 2, 0]'),\n",
       " Text(0.3939393939393939, 0.5357142857142857, 'entropy = 0.0\\nsamples = 28\\nvalue = [28, 0, 0, 0]'),\n",
       " Text(0.4090909090909091, 0.6071428571428571, 'entropy = 0.0\\nsamples = 17\\nvalue = [0, 0, 17, 0]'),\n",
       " Text(0.8172348484848485, 0.8214285714285714, 'X[5] <= 1.5\\nentropy = 1.061\\nsamples = 621\\nvalue = [142, 34, 445, 0]'),\n",
       " Text(0.8020833333333334, 0.75, 'entropy = 0.0\\nsamples = 308\\nvalue = [0, 0, 308, 0]'),\n",
       " Text(0.8323863636363636, 0.75, 'X[4] <= 1.5\\nentropy = 1.387\\nsamples = 313\\nvalue = [142, 34, 137, 0]'),\n",
       " Text(0.7102272727272727, 0.6785714285714286, 'X[1] <= 2.5\\nentropy = 1.418\\nsamples = 207\\nvalue = [114, 34, 59, 0]'),\n",
       " Text(0.6174242424242424, 0.6071428571428571, 'X[0] <= 2.5\\nentropy = 1.344\\nsamples = 161\\nvalue = [99, 34, 28, 0]'),\n",
       " Text(0.5075757575757576, 0.5357142857142857, 'X[0] <= 0.5\\nentropy = 1.202\\nsamples = 121\\nvalue = [78, 34, 9, 0]'),\n",
       " Text(0.4393939393939394, 0.4642857142857143, 'X[2] <= 1.5\\nentropy = 0.619\\nsamples = 39\\nvalue = [33, 0, 6, 0]'),\n",
       " Text(0.42424242424242425, 0.39285714285714285, 'X[4] <= 0.5\\nentropy = 0.918\\nsamples = 18\\nvalue = [12, 0, 6, 0]'),\n",
       " Text(0.4090909090909091, 0.32142857142857145, 'entropy = 0.0\\nsamples = 9\\nvalue = [9, 0, 0, 0]'),\n",
       " Text(0.4393939393939394, 0.32142857142857145, 'X[3] <= 1.5\\nentropy = 0.918\\nsamples = 9\\nvalue = [3, 0, 6, 0]'),\n",
       " Text(0.42424242424242425, 0.25, 'entropy = 0.0\\nsamples = 4\\nvalue = [0, 0, 4, 0]'),\n",
       " Text(0.45454545454545453, 0.25, 'X[2] <= 0.5\\nentropy = 0.971\\nsamples = 5\\nvalue = [3, 0, 2, 0]'),\n",
       " Text(0.4393939393939394, 0.17857142857142858, 'entropy = 0.0\\nsamples = 2\\nvalue = [0, 0, 2, 0]'),\n",
       " Text(0.4696969696969697, 0.17857142857142858, 'entropy = 0.0\\nsamples = 3\\nvalue = [3, 0, 0, 0]'),\n",
       " Text(0.45454545454545453, 0.39285714285714285, 'entropy = 0.0\\nsamples = 21\\nvalue = [21, 0, 0, 0]'),\n",
       " Text(0.5757575757575758, 0.4642857142857143, 'X[1] <= 0.5\\nentropy = 1.176\\nsamples = 82\\nvalue = [45, 34, 3, 0]'),\n",
       " Text(0.5151515151515151, 0.39285714285714285, 'X[4] <= 0.5\\nentropy = 0.503\\nsamples = 27\\nvalue = [24, 0, 3, 0]'),\n",
       " Text(0.5, 0.32142857142857145, 'entropy = 0.0\\nsamples = 13\\nvalue = [13, 0, 0, 0]'),\n",
       " Text(0.5303030303030303, 0.32142857142857145, 'X[2] <= 1.5\\nentropy = 0.75\\nsamples = 14\\nvalue = [11, 0, 3, 0]'),\n",
       " Text(0.5151515151515151, 0.25, 'X[0] <= 1.5\\nentropy = 0.985\\nsamples = 7\\nvalue = [4, 0, 3, 0]'),\n",
       " Text(0.5, 0.17857142857142858, 'entropy = 0.0\\nsamples = 3\\nvalue = [3, 0, 0, 0]'),\n",
       " Text(0.5303030303030303, 0.17857142857142858, 'X[3] <= 1.5\\nentropy = 0.811\\nsamples = 4\\nvalue = [1, 0, 3, 0]'),\n",
       " Text(0.5151515151515151, 0.10714285714285714, 'entropy = 0.0\\nsamples = 2\\nvalue = [0, 0, 2, 0]'),\n",
       " Text(0.5454545454545454, 0.10714285714285714, 'X[2] <= 0.5\\nentropy = 1.0\\nsamples = 2\\nvalue = [1, 0, 1, 0]'),\n",
       " Text(0.5303030303030303, 0.03571428571428571, 'entropy = 0.0\\nsamples = 1\\nvalue = [0, 0, 1, 0]'),\n",
       " Text(0.5606060606060606, 0.03571428571428571, 'entropy = 0.0\\nsamples = 1\\nvalue = [1, 0, 0, 0]'),\n",
       " Text(0.5454545454545454, 0.25, 'entropy = 0.0\\nsamples = 7\\nvalue = [7, 0, 0, 0]'),\n",
       " Text(0.6363636363636364, 0.39285714285714285, 'X[1] <= 1.5\\nentropy = 0.959\\nsamples = 55\\nvalue = [21, 34, 0, 0]'),\n",
       " Text(0.5909090909090909, 0.32142857142857145, 'X[4] <= 0.5\\nentropy = 0.516\\nsamples = 26\\nvalue = [3, 23, 0, 0]'),\n",
       " Text(0.5757575757575758, 0.25, 'entropy = 0.0\\nsamples = 15\\nvalue = [0, 15, 0, 0]'),\n",
       " Text(0.6060606060606061, 0.25, 'X[2] <= 0.5\\nentropy = 0.845\\nsamples = 11\\nvalue = [3, 8, 0, 0]'),\n",
       " Text(0.5909090909090909, 0.17857142857142858, 'entropy = 0.0\\nsamples = 2\\nvalue = [2, 0, 0, 0]'),\n",
       " Text(0.6212121212121212, 0.17857142857142858, 'X[2] <= 1.5\\nentropy = 0.503\\nsamples = 9\\nvalue = [1, 8, 0, 0]'),\n",
       " Text(0.6060606060606061, 0.10714285714285714, 'X[3] <= 1.5\\nentropy = 0.918\\nsamples = 3\\nvalue = [1, 2, 0, 0]'),\n",
       " Text(0.5909090909090909, 0.03571428571428571, 'entropy = 0.0\\nsamples = 1\\nvalue = [1, 0, 0, 0]'),\n",
       " Text(0.6212121212121212, 0.03571428571428571, 'entropy = 0.0\\nsamples = 2\\nvalue = [0, 2, 0, 0]'),\n",
       " Text(0.6363636363636364, 0.10714285714285714, 'entropy = 0.0\\nsamples = 6\\nvalue = [0, 6, 0, 0]'),\n",
       " Text(0.6818181818181818, 0.32142857142857145, 'X[0] <= 1.5\\nentropy = 0.958\\nsamples = 29\\nvalue = [18, 11, 0, 0]'),\n",
       " Text(0.6666666666666666, 0.25, 'X[4] <= 0.5\\nentropy = 0.619\\nsamples = 13\\nvalue = [2, 11, 0, 0]'),\n",
       " Text(0.6515151515151515, 0.17857142857142858, 'entropy = 0.0\\nsamples = 7\\nvalue = [0, 7, 0, 0]'),\n",
       " Text(0.6818181818181818, 0.17857142857142858, 'X[2] <= 1.5\\nentropy = 0.918\\nsamples = 6\\nvalue = [2, 4, 0, 0]'),\n",
       " Text(0.6666666666666666, 0.10714285714285714, 'X[3] <= 1.5\\nentropy = 0.918\\nsamples = 3\\nvalue = [2, 1, 0, 0]'),\n",
       " Text(0.6515151515151515, 0.03571428571428571, 'entropy = 0.0\\nsamples = 2\\nvalue = [2, 0, 0, 0]'),\n",
       " Text(0.6818181818181818, 0.03571428571428571, 'entropy = 0.0\\nsamples = 1\\nvalue = [0, 1, 0, 0]'),\n",
       " Text(0.696969696969697, 0.10714285714285714, 'entropy = 0.0\\nsamples = 3\\nvalue = [0, 3, 0, 0]'),\n",
       " Text(0.696969696969697, 0.25, 'entropy = 0.0\\nsamples = 16\\nvalue = [16, 0, 0, 0]'),\n",
       " Text(0.7272727272727273, 0.5357142857142857, 'X[1] <= 0.5\\nentropy = 0.998\\nsamples = 40\\nvalue = [21, 0, 19, 0]'),\n",
       " Text(0.7121212121212122, 0.4642857142857143, 'entropy = 0.0\\nsamples = 14\\nvalue = [0, 0, 14, 0]'),\n",
       " Text(0.7424242424242424, 0.4642857142857143, 'X[2] <= 1.5\\nentropy = 0.706\\nsamples = 26\\nvalue = [21, 0, 5, 0]'),\n",
       " Text(0.7272727272727273, 0.39285714285714285, 'X[4] <= 0.5\\nentropy = 0.98\\nsamples = 12\\nvalue = [7, 0, 5, 0]'),\n",
       " Text(0.7121212121212122, 0.32142857142857145, 'entropy = 0.0\\nsamples = 5\\nvalue = [5, 0, 0, 0]'),\n",
       " Text(0.7424242424242424, 0.32142857142857145, 'X[3] <= 1.5\\nentropy = 0.863\\nsamples = 7\\nvalue = [2, 0, 5, 0]'),\n",
       " Text(0.7272727272727273, 0.25, 'entropy = 0.0\\nsamples = 4\\nvalue = [0, 0, 4, 0]'),\n",
       " Text(0.7575757575757576, 0.25, 'X[2] <= 0.5\\nentropy = 0.918\\nsamples = 3\\nvalue = [2, 0, 1, 0]'),\n",
       " Text(0.7424242424242424, 0.17857142857142858, 'entropy = 0.0\\nsamples = 1\\nvalue = [0, 0, 1, 0]'),\n",
       " Text(0.7727272727272727, 0.17857142857142858, 'entropy = 0.0\\nsamples = 2\\nvalue = [2, 0, 0, 0]'),\n",
       " Text(0.7575757575757576, 0.39285714285714285, 'entropy = 0.0\\nsamples = 14\\nvalue = [14, 0, 0, 0]'),\n",
       " Text(0.803030303030303, 0.6071428571428571, 'X[0] <= 0.5\\nentropy = 0.911\\nsamples = 46\\nvalue = [15, 0, 31, 0]'),\n",
       " Text(0.7878787878787878, 0.5357142857142857, 'entropy = 0.0\\nsamples = 13\\nvalue = [0, 0, 13, 0]'),\n",
       " Text(0.8181818181818182, 0.5357142857142857, 'X[0] <= 2.5\\nentropy = 0.994\\nsamples = 33\\nvalue = [15, 0, 18, 0]'),\n",
       " Text(0.803030303030303, 0.4642857142857143, 'X[2] <= 1.5\\nentropy = 0.863\\nsamples = 21\\nvalue = [15, 0, 6, 0]'),\n",
       " Text(0.7878787878787878, 0.39285714285714285, 'X[4] <= 0.5\\nentropy = 0.994\\nsamples = 11\\nvalue = [5, 0, 6, 0]'),\n",
       " Text(0.7727272727272727, 0.32142857142857145, 'entropy = 0.0\\nsamples = 4\\nvalue = [4, 0, 0, 0]'),\n",
       " Text(0.803030303030303, 0.32142857142857145, 'X[3] <= 1.5\\nentropy = 0.592\\nsamples = 7\\nvalue = [1, 0, 6, 0]'),\n",
       " Text(0.7878787878787878, 0.25, 'entropy = 0.0\\nsamples = 4\\nvalue = [0, 0, 4, 0]'),\n",
       " Text(0.8181818181818182, 0.25, 'X[2] <= 0.5\\nentropy = 0.918\\nsamples = 3\\nvalue = [1, 0, 2, 0]'),\n",
       " Text(0.803030303030303, 0.17857142857142858, 'entropy = 0.0\\nsamples = 2\\nvalue = [0, 0, 2, 0]'),\n",
       " Text(0.8333333333333334, 0.17857142857142858, 'entropy = 0.0\\nsamples = 1\\nvalue = [1, 0, 0, 0]'),\n",
       " Text(0.8181818181818182, 0.39285714285714285, 'entropy = 0.0\\nsamples = 10\\nvalue = [10, 0, 0, 0]'),\n",
       " Text(0.8333333333333334, 0.4642857142857143, 'entropy = 0.0\\nsamples = 12\\nvalue = [0, 0, 12, 0]'),\n",
       " Text(0.9545454545454546, 0.6785714285714286, 'X[0] <= 0.5\\nentropy = 0.833\\nsamples = 106\\nvalue = [28, 0, 78, 0]'),\n",
       " Text(0.9393939393939394, 0.6071428571428571, 'entropy = 0.0\\nsamples = 27\\nvalue = [0, 0, 27, 0]'),\n",
       " Text(0.9696969696969697, 0.6071428571428571, 'X[0] <= 2.5\\nentropy = 0.938\\nsamples = 79\\nvalue = [28, 0, 51, 0]'),\n",
       " Text(0.9545454545454546, 0.5357142857142857, 'X[1] <= 2.5\\nentropy = 0.996\\nsamples = 52\\nvalue = [28, 0, 24, 0]'),\n",
       " Text(0.9393939393939394, 0.4642857142857143, 'X[1] <= 0.5\\nentropy = 0.881\\nsamples = 40\\nvalue = [28, 0, 12, 0]'),\n",
       " Text(0.9090909090909091, 0.39285714285714285, 'X[0] <= 1.5\\nentropy = 0.971\\nsamples = 15\\nvalue = [6, 0, 9, 0]'),\n",
       " Text(0.8939393939393939, 0.32142857142857145, 'X[2] <= 0.5\\nentropy = 0.592\\nsamples = 7\\nvalue = [6, 0, 1, 0]'),\n",
       " Text(0.8787878787878788, 0.25, 'X[3] <= 1.5\\nentropy = 1.0\\nsamples = 2\\nvalue = [1, 0, 1, 0]'),\n",
       " Text(0.8636363636363636, 0.17857142857142858, 'entropy = 0.0\\nsamples = 1\\nvalue = [1, 0, 0, 0]'),\n",
       " Text(0.8939393939393939, 0.17857142857142858, 'entropy = 0.0\\nsamples = 1\\nvalue = [0, 0, 1, 0]'),\n",
       " Text(0.9090909090909091, 0.25, 'entropy = 0.0\\nsamples = 5\\nvalue = [5, 0, 0, 0]'),\n",
       " Text(0.9242424242424242, 0.32142857142857145, 'entropy = 0.0\\nsamples = 8\\nvalue = [0, 0, 8, 0]'),\n",
       " Text(0.9696969696969697, 0.39285714285714285, 'X[2] <= 0.5\\nentropy = 0.529\\nsamples = 25\\nvalue = [22, 0, 3, 0]'),\n",
       " Text(0.9545454545454546, 0.32142857142857145, 'X[3] <= 1.5\\nentropy = 1.0\\nsamples = 6\\nvalue = [3, 0, 3, 0]'),\n",
       " Text(0.9393939393939394, 0.25, 'entropy = 0.0\\nsamples = 3\\nvalue = [3, 0, 0, 0]'),\n",
       " Text(0.9696969696969697, 0.25, 'entropy = 0.0\\nsamples = 3\\nvalue = [0, 0, 3, 0]'),\n",
       " Text(0.9848484848484849, 0.32142857142857145, 'entropy = 0.0\\nsamples = 19\\nvalue = [19, 0, 0, 0]'),\n",
       " Text(0.9696969696969697, 0.4642857142857143, 'entropy = 0.0\\nsamples = 12\\nvalue = [0, 0, 12, 0]'),\n",
       " Text(0.9848484848484849, 0.5357142857142857, 'entropy = 0.0\\nsamples = 27\\nvalue = [0, 0, 27, 0]')]"
      ]
     },
     "execution_count": 58,
     "metadata": {},
     "output_type": "execute_result"
    },
    {
     "data": {
      "image/png": "[encoded data removed]",
      "text/plain": [
       "<Figure size 640x480 with 1 Axes>"
      ]
     },
     "metadata": {},
     "output_type": "display_data"
    }
   ],
   "source": [
    "tree.plot_tree(clf)"
   ]
  }
 ],
 "metadata": {
  "kernelspec": {
   "display_name": "Python 3 (ipykernel)",
   "language": "python",
   "name": "python3"
  },
  "language_info": {
   "codemirror_mode": {
    "name": "ipython",
    "version": 3
   },
   "file_extension": ".py",
   "mimetype": "text/x-python",
   "name": "python",
   "nbconvert_exporter": "python",
   "pygments_lexer": "ipython3",
   "version": "3.9.13"
  }
 },
 "nbformat": 4,
 "nbformat_minor": 5
}
