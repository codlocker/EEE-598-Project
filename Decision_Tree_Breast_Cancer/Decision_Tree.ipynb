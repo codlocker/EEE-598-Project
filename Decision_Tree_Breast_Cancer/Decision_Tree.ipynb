{
 "cells": [
  {
   "cell_type": "code",
   "execution_count": 57,
   "id": "5d186b59",
   "metadata": {},
   "outputs": [],
   "source": [
    "import numpy as np\n",
    "from collections import Counter\n",
    "import matplotlib.pyplot as plt\n",
    "from sklearn import datasets\n",
    "from sklearn.model_selection import train_test_split\n",
    "import numpy as np\n",
    "from sklearn import preprocessing\n",
    "from sklearn.metrics import accuracy_score"
   ]
  },
  {
   "cell_type": "markdown",
   "id": "bfd5194f",
   "metadata": {},
   "source": [
    "## Node Values"
   ]
  },
  {
   "cell_type": "code",
   "execution_count": 58,
   "id": "447b2a74",
   "metadata": {},
   "outputs": [],
   "source": [
    "class Node():\n",
    "    def __init__(\n",
    "        self,\n",
    "        feature_index=None,\n",
    "        threshold=None,\n",
    "        left=None,\n",
    "        right=None,\n",
    "        info_gain=None,\n",
    "        value=None,\n",
    "        normalized_cr = None):\n",
    "        '''Constructor for the DT Nodes'''\n",
    "        \n",
    "        self.feature_index = feature_index\n",
    "        self.threshold = threshold\n",
    "        self.left = left\n",
    "        self.right = right\n",
    "        self.info_gain = info_gain\n",
    "        self.normalized_correlation = normalized_cr\n",
    "        \n",
    "        # for leaf node\n",
    "        self.value = value"
   ]
  },
  {
   "cell_type": "markdown",
   "id": "166eaebb",
   "metadata": {},
   "source": [
    "## Decision Tree"
   ]
  },
  {
   "cell_type": "code",
   "execution_count": 59,
   "id": "20948512",
   "metadata": {},
   "outputs": [],
   "source": [
    "class DecisionTreeClassifier():\n",
    "    def __init__(\n",
    "        self,\n",
    "        min_samples_split=2,\n",
    "        max_depth=2,\n",
    "        normalized_correlation_values=None,\n",
    "        information_gain_mode=\"entropy\"):\n",
    "        self.root = None\n",
    "        \n",
    "        #Base Case\n",
    "        self.min_samples_split = min_samples_split\n",
    "        self.max_depth = max_depth\n",
    "        self.normalized_correlation_values = normalized_correlation_values\n",
    "        self.information_gain_mode = information_gain_mode\n",
    "        \n",
    "    def build_tree(self, dataset, curr_depth=0):\n",
    "        X, Y = dataset[:,:-1], dataset[:,-1]\n",
    "        num_samples, num_features = np.shape(X)\n",
    "        \n",
    "        # print(\"Number of samples:\", num_samples, \"Number of features:\", num_features)\n",
    "        \n",
    "        if num_samples >=  self.min_samples_split and curr_depth <= self.max_depth:\n",
    "            \n",
    "            # Find the best split\n",
    "            best_split = self.get_best_split(dataset, num_samples, num_features)\n",
    "            \n",
    "            if best_split[\"info_gain\"] > 0:\n",
    "                # Recurrence in the left SubTree\n",
    "                left_subtree = self.build_tree(best_split[\"dataset_left\"], curr_depth + 1)\n",
    "                \n",
    "                # Recurrence in right subtree\n",
    "                right_subtree = self.build_tree(best_split[\"dataset_right\"], curr_depth + 1)\n",
    "                \n",
    "                # return decision node\n",
    "                return Node(best_split[\"feature_index\"], best_split[\"threshold\"], \n",
    "                            left_subtree, right_subtree, best_split[\"info_gain\"])\n",
    "            \n",
    "        # compute leaf node\n",
    "        leaf_value = self.calculate_leaf_value(Y)\n",
    "        # return leaf node\n",
    "        return Node(value=leaf_value)\n",
    "    \n",
    "    def get_best_split(self, dataset, num_samples, num_features):\n",
    "        \n",
    "        best_split = {}\n",
    "        max_info_gain = -float(\"inf\")\n",
    "        # print(\"Dataset shape:\", dataset.shape)\n",
    "        for feature_index in range(num_features):\n",
    "            # print(feature_index)\n",
    "            feature_values = dataset[:, feature_index]\n",
    "            possible_thresholds = np.unique(feature_values)\n",
    "            \n",
    "            # Loop over all feature values in the dat\n",
    "            for threshold in possible_thresholds:\n",
    "                dataset_left, dataset_right = self.split(dataset, feature_index, threshold)\n",
    "                \n",
    "                if len(dataset_left) > 0 and len(dataset_right) > 0:\n",
    "                    Y, Y_left, Y_right = dataset[:, -1], dataset_left[:, -1], dataset_right[:, -1]\n",
    "                    \n",
    "                    # Compute Information Gain using X's and Y's\n",
    "                    if self.information_gain_mode == \"entropy_af\":\n",
    "                        curr_info_gain = self.information_gain_af(Y, Y_left, Y_right, feature_index)\n",
    "                    elif self.information_gain_mode == \"entropy_chi\":\n",
    "                        chi_square_left_node = self.information_gain_chi_squared(Y, Y_left)\n",
    "                        chi_square_right_node = self.information_gain_chi_squared(Y, Y_right)\n",
    "                        \n",
    "                        curr_info_gain = chi_square_left_node if chi_square_left_node > chi_square_right_node else chi_square_right_node\n",
    "                    elif self.information_gain_mode == \"entropy_gini_index\":\n",
    "                        curr_info_gain = self.information_gain_gini(Y, Y_left, Y_right)\n",
    "                    else:\n",
    "                        curr_info_gain = self.information_gain(Y, Y_left, Y_right)\n",
    "                    \n",
    "                    # print(\"Current Info Gain\", curr_info_gain)\n",
    "                    \n",
    "                    # Update the best split if needed\n",
    "                    if curr_info_gain > max_info_gain:\n",
    "                        best_split[\"feature_index\"] = feature_index\n",
    "                        best_split[\"threshold\"] = threshold\n",
    "                        best_split[\"dataset_left\"] = dataset_left\n",
    "                        best_split[\"dataset_right\"] = dataset_right\n",
    "                        best_split[\"info_gain\"] = curr_info_gain\n",
    "                        max_info_gain = curr_info_gain\n",
    "                \n",
    "        return best_split\n",
    "    \n",
    "    def split(self, dataset, feature_index, threshold):\n",
    "        ''' function to split the data '''\n",
    "        # print(\"Feature Index:\", feature_index, \"Threshold:\", threshold)\n",
    "        \n",
    "        dataset_left = np.array([row for row in dataset if row[feature_index]<=threshold])\n",
    "        dataset_right = np.array([row for row in dataset if row[feature_index]>threshold])\n",
    "        \n",
    "        # print(\"Y:\", Y_left.shape, Y_right.shape)\n",
    "        return dataset_left, dataset_right\n",
    "    \n",
    "    def information_gain_af(self, parent, l_child, r_child, f_index):\n",
    "        p_l = len(l_child) / len(parent)\n",
    "        p_r = len(r_child) / len(parent)\n",
    "        \n",
    "        return self.entropy(parent) - p_l * self.entropy(l_child) * self.normalized_correlation_values[f_index] - p_r * self.entropy(r_child) * self.normalized_correlation_values[f_index]\n",
    "    \n",
    "    def information_gain(self, parent, l_child, r_child):\n",
    "        p_l = len(l_child) / len(parent)\n",
    "        p_r = len(r_child) / len(parent)\n",
    "\n",
    "        return self.entropy(parent) - p_l * self.entropy(l_child) - p_r * self.entropy(r_child)\n",
    "    \n",
    "    def information_gain_gini(self, parent, l_child, r_child):\n",
    "        p_l = len(l_child) / len(parent)\n",
    "        p_r = len(r_child) / len(parent)\n",
    "\n",
    "        return self.entropy(parent) - p_l * self.gini_index(l_child) - p_r * self.gini_index(r_child)\n",
    "    \n",
    "    def information_gain_chi_squared(self, parent, child):\n",
    "        unique_parent, counts_parent = np.unique(parent, return_counts=True)\n",
    "        total_parent = np.sum(counts_parent)\n",
    "        \n",
    "        expected = np.mean([c / total_parent for c in counts_parent])\n",
    "        # print(\"Expected: \", expected)\n",
    "        \n",
    "        unique_child, counts_child = np.unique(child, return_counts=True)\n",
    "        total_child = sum(counts_child)\n",
    "        \n",
    "        actual = np.mean([c / total_child for c in counts_child])\n",
    "        \n",
    "        # print(\"Actual: \", actual)\n",
    "        \n",
    "        return np.sqrt((expected - actual) ** 2 / expected)\n",
    "        \n",
    "        \n",
    "        \n",
    "    def entropy(self, Y):\n",
    "        class_labels = np.unique(Y)\n",
    "        entropy = 0\n",
    "        \n",
    "        for cls in class_labels:\n",
    "            p_cls = len(Y[Y == cls]) / len(Y)\n",
    "            entropy += -p_cls * np.log2(p_cls)\n",
    "            \n",
    "        return entropy\n",
    "    \n",
    "    def gini_index(self, Y):\n",
    "        ''' Computes the gini-index '''\n",
    "        \n",
    "        class_labels = np.unique(Y)\n",
    "        gini_value = 0\n",
    "        \n",
    "        for cls in class_labels:\n",
    "            p_cls = len(Y[Y == cls]) / len(Y)\n",
    "            gini_value += np.power(p_cls, 2)\n",
    "        \n",
    "        return 1 - gini_value\n",
    "    \n",
    "    def calculate_leaf_value(self, Y):\n",
    "        ''' function to compute leaf nodes  '''\n",
    "        \n",
    "        Y = list(Y)\n",
    "        return max(Y, key=Y.count)\n",
    "    \n",
    "    def print_tree(self, tree=None, indent=\" \"):\n",
    "        \n",
    "        if not tree:\n",
    "            tree = self.root\n",
    "            \n",
    "        if tree.value is not None:\n",
    "            print(tree.value)\n",
    "            \n",
    "        else:\n",
    "            print(\"X_\"+str(tree.feature_index), \"<=\", tree.threshold, \"?\", tree.info_gain)\n",
    "            print(\"%sleft:\" % (indent), end=\"\")\n",
    "            self.print_tree(tree.left, indent + indent)\n",
    "            print(\"%sright:\" % (indent), end=\"\")\n",
    "            self.print_tree(tree.right, indent + indent)\n",
    "            \n",
    "    def predict(self, X):\n",
    "        ''' function to predict new dataset '''\n",
    "        predictions = []\n",
    "        \n",
    "        for x in X:\n",
    "            # print(x)\n",
    "            predictions.append(\n",
    "                self.make_prediction(x, self.root))\n",
    "            \n",
    "        return predictions\n",
    "    \n",
    "    def fit(self, X, Y):\n",
    "        ''' function to train the tree '''\n",
    "        dataset = np.concatenate((X, Y), axis=1)\n",
    "        \n",
    "        self.root = self.build_tree(dataset)\n",
    "    \n",
    "    def make_prediction(self, x, tree):\n",
    "        ''' function to predict a single data point '''\n",
    "        \n",
    "        if tree.value != None:\n",
    "            return tree.value\n",
    "        # print(x)\n",
    "        feature_val = x[tree.feature_index]\n",
    "        \n",
    "        if feature_val<=tree.threshold:\n",
    "            return self.make_prediction(x, tree.left)\n",
    "        else:\n",
    "            return self.make_prediction(x, tree.right)"
   ]
  },
  {
   "cell_type": "markdown",
   "id": "d5209f60",
   "metadata": {},
   "source": [
    "## LOAD and SET VALUES FOR BREAST CANCER DATASET"
   ]
  },
  {
   "cell_type": "code",
   "execution_count": 60,
   "id": "f3bcf478",
   "metadata": {},
   "outputs": [],
   "source": [
    "data = datasets.load_breast_cancer()\n",
    "X, y = data.data, data.target\n",
    "\n",
    "Y = y.reshape(-1, 1)\n",
    "Y.shape\n",
    "\n",
    "X_train, X_test, Y_train, Y_test = train_test_split(\n",
    "    X, Y, test_size=0.2, random_state=42\n",
    ")"
   ]
  },
  {
   "cell_type": "code",
   "execution_count": 61,
   "id": "aca9233f",
   "metadata": {
    "scrolled": true
   },
   "outputs": [
    {
     "data": {
      "text/plain": [
       "numpy.ndarray"
      ]
     },
     "execution_count": 61,
     "metadata": {},
     "output_type": "execute_result"
    }
   ],
   "source": [
    "type(data.data)"
   ]
  },
  {
   "cell_type": "code",
   "execution_count": 62,
   "id": "7369382e",
   "metadata": {
    "scrolled": true
   },
   "outputs": [
    {
     "name": "stdout",
     "output_type": "stream",
     "text": [
      "(30,)\n",
      "30\n"
     ]
    }
   ],
   "source": [
    "def AF_algorithm(X, y):\n",
    "    af_set = []\n",
    "    C_values = y\n",
    "    AF_values = X\n",
    "    \n",
    "    # print(AF_values.shape, C_values.shape)\n",
    "    \n",
    "    for i in range(0, AF_values.shape[1]):\n",
    "        # print(\"Unique values: \", np.unique(AF_values[:, i]))\n",
    "        af_set.append(\n",
    "            np.sum(\n",
    "                np.abs(AF_values[:, i] - C_values), axis=0) / len(np.unique(AF_values[:, i])))\n",
    "    \n",
    "    return af_set\n",
    "\n",
    "def calculate_normalized_AF(AF_values):\n",
    "    AF_normalized = []\n",
    "    \n",
    "    for i in range(AF_values.shape[0]):\n",
    "        AF_normalized.append(AF_values[i] / np.sum(AF_values, axis=0))\n",
    "    \n",
    "    return AF_normalized\n",
    "    \n",
    "AF_values = np.array(AF_algorithm(data.data, data.target))\n",
    "print(AF_values.shape)\n",
    "normalized_AF_values = calculate_normalized_AF(AF_values) \n",
    "\n",
    "print(len(normalized_AF_values))"
   ]
  },
  {
   "cell_type": "markdown",
   "id": "8b56922d",
   "metadata": {},
   "source": [
    "## Running Decision Tree on Normal Information Gain with Entropy function with Correlation Function"
   ]
  },
  {
   "cell_type": "code",
   "execution_count": 63,
   "id": "a2360062",
   "metadata": {},
   "outputs": [
    {
     "name": "stdout",
     "output_type": "stream",
     "text": [
      "X_7 <= 0.05074 ? 0.951628686552252\n",
      " left:X_7 <= 0.02657 ? 0.31426420452073894\n",
      "  left:X_14 <= 0.00328 ? 0.0896920780770556\n",
      "    left:X_1 <= 18.22 ? 0.863120568566631\n",
      "        left:1.0\n",
      "        right:0.0\n",
      "    right:1.0\n",
      "  right:X_19 <= 0.002881 ? 0.5629484861301053\n",
      "    left:X_29 <= 0.08756 ? 0.8110372864616361\n",
      "        left:X_15 <= 0.01202 ? 0.7599576787253555\n",
      "                left:X_18 <= 0.01647 ? 0.9973056154809069\n",
      "                                left:0.0\n",
      "                                right:1.0\n",
      "                right:X_10 <= 0.3796 ? 0.43942157712983915\n",
      "                                left:1.0\n",
      "                                right:1.0\n",
      "        right:0.0\n",
      "    right:X_24 <= 0.1768 ? 0.13303964861069895\n",
      "        left:1.0\n",
      "        right:0.0\n",
      " right:X_27 <= 0.1465 ? 0.5164899547543133\n",
      "  left:X_9 <= 0.05982 ? 0.9992098276331123\n",
      "    left:X_1 <= 13.93 ? 0.37123232664087563\n",
      "        left:1.0\n",
      "        right:0.0\n",
      "    right:X_17 <= 0.01167 ? 0.7023730652240128\n",
      "        left:X_1 <= 13.98 ? 0.9182958340544896\n",
      "                left:1.0\n",
      "                right:0.0\n",
      "        right:1.0\n",
      "  right:X_16 <= 0.1278 ? 0.10928571467638522\n",
      "    left:0.0\n",
      "    right:1.0\n"
     ]
    }
   ],
   "source": [
    "classifier_af = DecisionTreeClassifier(\n",
    "    min_samples_split=5,\n",
    "    max_depth=5,\n",
    "    normalized_correlation_values=normalized_AF_values,\n",
    "    information_gain_mode=\"entropy_af\")\n",
    "\n",
    "classifier_af.fit(X_train,Y_train)\n",
    "classifier_af.print_tree()"
   ]
  },
  {
   "cell_type": "code",
   "execution_count": 64,
   "id": "e5f41fef",
   "metadata": {},
   "outputs": [
    {
     "data": {
      "text/plain": [
       "0.8947368421052632"
      ]
     },
     "execution_count": 64,
     "metadata": {},
     "output_type": "execute_result"
    }
   ],
   "source": [
    "Y_pred = classifier_af.predict(X_test)\n",
    "accuracy_score(Y_test, Y_pred)"
   ]
  },
  {
   "cell_type": "markdown",
   "id": "9ad0f2f0",
   "metadata": {},
   "source": [
    "## Running Decision Tree on Normal Information Gain with Chi-squared function\n"
   ]
  },
  {
   "cell_type": "code",
   "execution_count": 65,
   "id": "ae5d0a2c",
   "metadata": {},
   "outputs": [
    {
     "name": "stdout",
     "output_type": "stream",
     "text": [
      "X_0 <= 7.691 ? 0.7071067811865476\n",
      " left:1.0\n",
      " right:X_0 <= 7.76 ? 0.7071067811865476\n",
      "  left:1.0\n",
      "  right:X_0 <= 8.196 ? 0.7071067811865476\n",
      "    left:1.0\n",
      "    right:X_0 <= 8.219 ? 0.7071067811865476\n",
      "        left:1.0\n",
      "        right:X_0 <= 8.571 ? 0.7071067811865476\n",
      "                left:1.0\n",
      "                right:X_0 <= 8.597 ? 0.7071067811865476\n",
      "                                left:1.0\n",
      "                                right:1.0\n"
     ]
    }
   ],
   "source": [
    "classifier_chi2 = DecisionTreeClassifier(\n",
    "    min_samples_split=5,\n",
    "    max_depth=5,\n",
    "    information_gain_mode=\"entropy_chi\")\n",
    "\n",
    "classifier_chi2.fit(X_train,Y_train)\n",
    "classifier_chi2.print_tree()"
   ]
  },
  {
   "cell_type": "code",
   "execution_count": 66,
   "id": "4e579b76",
   "metadata": {},
   "outputs": [],
   "source": [
    "Y_pred = classifier_chi2.predict(X_test)"
   ]
  },
  {
   "cell_type": "code",
   "execution_count": 67,
   "id": "ec6482c3",
   "metadata": {},
   "outputs": [
    {
     "data": {
      "text/plain": [
       "0.6228070175438597"
      ]
     },
     "execution_count": 67,
     "metadata": {},
     "output_type": "execute_result"
    }
   ],
   "source": [
    "accuracy_score(Y_test, Y_pred)"
   ]
  },
  {
   "cell_type": "markdown",
   "id": "7a0177cc",
   "metadata": {},
   "source": [
    "## Running Decision Tree on Normal Information Gain with Gini-Index"
   ]
  },
  {
   "cell_type": "code",
   "execution_count": 68,
   "id": "f3b4c828",
   "metadata": {},
   "outputs": [
    {
     "name": "stdout",
     "output_type": "stream",
     "text": [
      "X_7 <= 0.05074 ? 0.8076745004557692\n",
      " left:X_20 <= 16.77 ? 0.24672095640726072\n",
      "  left:X_10 <= 0.6061 ? 0.1082331530271355\n",
      "    left:X_24 <= 0.1768 ? 0.07556201066652332\n",
      "        left:X_14 <= 0.00328 ? 0.05097099676309485\n",
      "                left:X_1 <= 18.22 ? 0.5916727785823275\n",
      "                                left:1.0\n",
      "                                right:0.0\n",
      "                right:X_21 <= 33.33 ? 0.02996207148281155\n",
      "                                left:1.0\n",
      "                                right:1.0\n",
      "        right:0.0\n",
      "    right:0.0\n",
      "  right:X_1 <= 15.7 ? 0.8038031350422353\n",
      "    left:1.0\n",
      "    right:X_17 <= 0.009921 ? 0.6193821946787638\n",
      "        left:0.0\n",
      "        right:1.0\n",
      " right:X_27 <= 0.1465 ? 0.39274010566594725\n",
      "  left:X_22 <= 114.3 ? 0.8123980777257682\n",
      "    left:X_1 <= 20.76 ? 0.6840384356390417\n",
      "        left:1.0\n",
      "        right:0.0\n",
      "    right:0.0\n",
      "  right:X_16 <= 0.1278 ? 0.10928571467638522\n",
      "    left:0.0\n",
      "    right:1.0\n"
     ]
    }
   ],
   "source": [
    "classifier_gini = DecisionTreeClassifier(\n",
    "    min_samples_split=5,\n",
    "    max_depth=5,\n",
    "    information_gain_mode=\"entropy_gini_index\")\n",
    "\n",
    "classifier_gini.fit(X_train,Y_train)\n",
    "classifier_gini.print_tree()"
   ]
  },
  {
   "cell_type": "code",
   "execution_count": 69,
   "id": "d86eea2d",
   "metadata": {},
   "outputs": [
    {
     "data": {
      "text/plain": [
       "0.9298245614035088"
      ]
     },
     "execution_count": 69,
     "metadata": {},
     "output_type": "execute_result"
    }
   ],
   "source": [
    "Y_pred = classifier_gini.predict(X_test)\n",
    "accuracy_score(Y_test, Y_pred)"
   ]
  }
 ],
 "metadata": {
  "kernelspec": {
   "display_name": "Python 3 (ipykernel)",
   "language": "python",
   "name": "python3"
  },
  "language_info": {
   "codemirror_mode": {
    "name": "ipython",
    "version": 3
   },
   "file_extension": ".py",
   "mimetype": "text/x-python",
   "name": "python",
   "nbconvert_exporter": "python",
   "pygments_lexer": "ipython3",
   "version": "3.9.13"
  }
 },
 "nbformat": 4,
 "nbformat_minor": 5
}
